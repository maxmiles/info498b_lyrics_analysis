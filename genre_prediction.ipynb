{
 "cells": [
  {
   "cell_type": "markdown",
   "metadata": {},
   "source": [
    "# Genre Prediction"
   ]
  },
  {
   "cell_type": "markdown",
   "metadata": {},
   "source": [
    "## What are the 10 most popular genres per decade on spotify?"
   ]
  },
  {
   "cell_type": "markdown",
   "metadata": {},
   "source": [
    "### Import Libraries"
   ]
  },
  {
   "cell_type": "code",
   "execution_count": 12,
   "metadata": {
    "tags": []
   },
   "outputs": [],
   "source": [
    "import pandas as pd\n",
    "from sklearn.feature_extraction.text import TfidfVectorizer\n",
    "import random\n",
    "from sklearn.linear_model import LogisticRegression\n",
    "from sklearn.neighbors import KNeighborsClassifier\n",
    "from sklearn.metrics import accuracy_score, precision_score, recall_score, f1_score, confusion_matrix\n",
    "from sklearn.neighbors import KNeighborsClassifier\n",
    "from sklearn.metrics import f1_score\n",
    "from sklearn.metrics import classification_report"
   ]
  },
  {
   "cell_type": "markdown",
   "metadata": {},
   "source": [
    "### Load Dataset"
   ]
  },
  {
   "cell_type": "code",
   "execution_count": 2,
   "metadata": {
    "tags": []
   },
   "outputs": [],
   "source": [
    "df_sptfy = pd.read_csv('data/billboard-lyrics-spotify.csv')"
   ]
  },
  {
   "cell_type": "code",
   "execution_count": 13,
   "metadata": {
    "tags": []
   },
   "outputs": [
    {
     "data": {
      "text/html": [
       "<div>\n",
       "<style scoped>\n",
       "    .dataframe tbody tr th:only-of-type {\n",
       "        vertical-align: middle;\n",
       "    }\n",
       "\n",
       "    .dataframe tbody tr th {\n",
       "        vertical-align: top;\n",
       "    }\n",
       "\n",
       "    .dataframe thead th {\n",
       "        text-align: right;\n",
       "    }\n",
       "</style>\n",
       "<table border=\"1\" class=\"dataframe\">\n",
       "  <thead>\n",
       "    <tr style=\"text-align: right;\">\n",
       "      <th></th>\n",
       "      <th>artist_all</th>\n",
       "      <th>artist_base</th>\n",
       "      <th>rank</th>\n",
       "      <th>song</th>\n",
       "      <th>year</th>\n",
       "      <th>artist_featured</th>\n",
       "      <th>song_clean</th>\n",
       "      <th>artist_clean</th>\n",
       "      <th>lyrics</th>\n",
       "      <th>acousticness</th>\n",
       "      <th>...</th>\n",
       "      <th>speechiness</th>\n",
       "      <th>tempo</th>\n",
       "      <th>time_signature</th>\n",
       "      <th>valence</th>\n",
       "      <th>duration_min</th>\n",
       "      <th>num_words</th>\n",
       "      <th>words_per_sec</th>\n",
       "      <th>num_uniq_words</th>\n",
       "      <th>decade</th>\n",
       "      <th>uniq_ratio</th>\n",
       "    </tr>\n",
       "  </thead>\n",
       "  <tbody>\n",
       "    <tr>\n",
       "      <th>0</th>\n",
       "      <td>percy faith</td>\n",
       "      <td>percy faith</td>\n",
       "      <td>1</td>\n",
       "      <td>theme from a summer place</td>\n",
       "      <td>1960</td>\n",
       "      <td>NaN</td>\n",
       "      <td>theme from a summer place</td>\n",
       "      <td>percy faith</td>\n",
       "      <td>theres a summer place where it may rain or sto...</td>\n",
       "      <td>0.631</td>\n",
       "      <td>...</td>\n",
       "      <td>0.0253</td>\n",
       "      <td>92.631</td>\n",
       "      <td>4.0</td>\n",
       "      <td>0.749</td>\n",
       "      <td>2.414883</td>\n",
       "      <td>104.0</td>\n",
       "      <td>0.717771</td>\n",
       "      <td>58.0</td>\n",
       "      <td>1960</td>\n",
       "      <td>1.793103</td>\n",
       "    </tr>\n",
       "    <tr>\n",
       "      <th>1</th>\n",
       "      <td>jim reeves</td>\n",
       "      <td>jim reeves</td>\n",
       "      <td>2</td>\n",
       "      <td>he'll have to go</td>\n",
       "      <td>1960</td>\n",
       "      <td>NaN</td>\n",
       "      <td>hell have to go</td>\n",
       "      <td>jim reeves</td>\n",
       "      <td>put your sweet lips a little closer to the pho...</td>\n",
       "      <td>0.909</td>\n",
       "      <td>...</td>\n",
       "      <td>0.0379</td>\n",
       "      <td>81.181</td>\n",
       "      <td>3.0</td>\n",
       "      <td>0.200</td>\n",
       "      <td>2.310667</td>\n",
       "      <td>152.0</td>\n",
       "      <td>1.096365</td>\n",
       "      <td>69.0</td>\n",
       "      <td>1960</td>\n",
       "      <td>2.202899</td>\n",
       "    </tr>\n",
       "    <tr>\n",
       "      <th>2</th>\n",
       "      <td>the everly brothers</td>\n",
       "      <td>the everly brothers</td>\n",
       "      <td>3</td>\n",
       "      <td>cathy's clown</td>\n",
       "      <td>1960</td>\n",
       "      <td>NaN</td>\n",
       "      <td>cathys clown</td>\n",
       "      <td>the everly brothers</td>\n",
       "      <td>dont want your love any more dont want your k...</td>\n",
       "      <td>0.412</td>\n",
       "      <td>...</td>\n",
       "      <td>0.0339</td>\n",
       "      <td>119.809</td>\n",
       "      <td>4.0</td>\n",
       "      <td>0.866</td>\n",
       "      <td>2.400217</td>\n",
       "      <td>121.0</td>\n",
       "      <td>0.840202</td>\n",
       "      <td>64.0</td>\n",
       "      <td>1960</td>\n",
       "      <td>1.890625</td>\n",
       "    </tr>\n",
       "    <tr>\n",
       "      <th>3</th>\n",
       "      <td>johnny preston</td>\n",
       "      <td>johnny preston</td>\n",
       "      <td>4</td>\n",
       "      <td>running bear</td>\n",
       "      <td>1960</td>\n",
       "      <td>NaN</td>\n",
       "      <td>running bear</td>\n",
       "      <td>johnny preston</td>\n",
       "      <td>on the bank of the river stood running bear yo...</td>\n",
       "      <td>0.854</td>\n",
       "      <td>...</td>\n",
       "      <td>0.0530</td>\n",
       "      <td>119.987</td>\n",
       "      <td>4.0</td>\n",
       "      <td>0.822</td>\n",
       "      <td>2.636667</td>\n",
       "      <td>220.0</td>\n",
       "      <td>1.390645</td>\n",
       "      <td>89.0</td>\n",
       "      <td>1960</td>\n",
       "      <td>2.471910</td>\n",
       "    </tr>\n",
       "    <tr>\n",
       "      <th>4</th>\n",
       "      <td>mark dinning</td>\n",
       "      <td>mark dinning</td>\n",
       "      <td>5</td>\n",
       "      <td>teen angel</td>\n",
       "      <td>1960</td>\n",
       "      <td>NaN</td>\n",
       "      <td>teen angel</td>\n",
       "      <td>mark dinning</td>\n",
       "      <td>teen angel teen angel teen angel that fateful ...</td>\n",
       "      <td>0.936</td>\n",
       "      <td>...</td>\n",
       "      <td>0.0459</td>\n",
       "      <td>101.517</td>\n",
       "      <td>4.0</td>\n",
       "      <td>0.282</td>\n",
       "      <td>2.664883</td>\n",
       "      <td>109.0</td>\n",
       "      <td>0.681706</td>\n",
       "      <td>73.0</td>\n",
       "      <td>1960</td>\n",
       "      <td>1.493151</td>\n",
       "    </tr>\n",
       "  </tbody>\n",
       "</table>\n",
       "<p>5 rows × 30 columns</p>\n",
       "</div>"
      ],
      "text/plain": [
       "            artist_all          artist_base  rank                       song  \\\n",
       "0          percy faith          percy faith     1  theme from a summer place   \n",
       "1           jim reeves           jim reeves     2           he'll have to go   \n",
       "2  the everly brothers  the everly brothers     3              cathy's clown   \n",
       "3       johnny preston       johnny preston     4               running bear   \n",
       "4         mark dinning         mark dinning     5                 teen angel   \n",
       "\n",
       "   year artist_featured                 song_clean         artist_clean  \\\n",
       "0  1960             NaN  theme from a summer place          percy faith   \n",
       "1  1960             NaN            hell have to go           jim reeves   \n",
       "2  1960             NaN               cathys clown  the everly brothers   \n",
       "3  1960             NaN               running bear       johnny preston   \n",
       "4  1960             NaN                 teen angel         mark dinning   \n",
       "\n",
       "                                              lyrics  acousticness  ...  \\\n",
       "0  theres a summer place where it may rain or sto...         0.631  ...   \n",
       "1  put your sweet lips a little closer to the pho...         0.909  ...   \n",
       "2   dont want your love any more dont want your k...         0.412  ...   \n",
       "3  on the bank of the river stood running bear yo...         0.854  ...   \n",
       "4  teen angel teen angel teen angel that fateful ...         0.936  ...   \n",
       "\n",
       "   speechiness    tempo  time_signature  valence  duration_min  num_words  \\\n",
       "0       0.0253   92.631             4.0    0.749      2.414883      104.0   \n",
       "1       0.0379   81.181             3.0    0.200      2.310667      152.0   \n",
       "2       0.0339  119.809             4.0    0.866      2.400217      121.0   \n",
       "3       0.0530  119.987             4.0    0.822      2.636667      220.0   \n",
       "4       0.0459  101.517             4.0    0.282      2.664883      109.0   \n",
       "\n",
       "   words_per_sec  num_uniq_words  decade uniq_ratio  \n",
       "0       0.717771            58.0    1960   1.793103  \n",
       "1       1.096365            69.0    1960   2.202899  \n",
       "2       0.840202            64.0    1960   1.890625  \n",
       "3       1.390645            89.0    1960   2.471910  \n",
       "4       0.681706            73.0    1960   1.493151  \n",
       "\n",
       "[5 rows x 30 columns]"
      ]
     },
     "execution_count": 13,
     "metadata": {},
     "output_type": "execute_result"
    }
   ],
   "source": [
    "df_sptfy.head()"
   ]
  },
  {
   "cell_type": "markdown",
   "metadata": {},
   "source": [
    "This is not scientifically proven but as a simplification, I'm adding a sentiment column with either 'positive' (1) or 'negative' (0), depending on the valence. Calculated where >50 valence is positive and <50 valence is negative. In Spotify's API is something called Valence, that describes the musical positiveness conveyed by a track. Tracks with high valence sound more positive (happy, cheerful, euphoric), while tracks with low valence sound more negative (sad, depressed, angry)."
   ]
  },
  {
   "cell_type": "code",
   "execution_count": 19,
   "metadata": {
    "tags": []
   },
   "outputs": [],
   "source": [
    "df_sptfy['sentiment'] = df_sptfy['valence'].apply(lambda x: 1 if x > 0.5 else 0)"
   ]
  },
  {
   "cell_type": "code",
   "execution_count": 4,
   "metadata": {
    "tags": []
   },
   "outputs": [
    {
     "name": "stdout",
     "output_type": "stream",
     "text": [
      "There are 5566 songs in the dataset\n",
      "The earliest year in the dataset is from 1960\n",
      "The latest year in the dataset is from 2017\n",
      "The shortest lyrics are 0.0 words in length\n",
      "The shortest lyrics are 1143.0 words in length\n",
      "The fastest tempo in the dataset is 233.429\n",
      "The shortest tempo in the dataset is 50.975\n",
      "The average tempo in the dataset is 119.35458858413638\n",
      "There are 2283 unique artists\n"
     ]
    }
   ],
   "source": [
    "print('There are', len(df_sptfy), 'songs in the dataset')\n",
    "print('The earliest year in the dataset is from', df_sptfy['year'].min())\n",
    "print('The latest year in the dataset is from', df_sptfy['year'].max())\n",
    "print('The shortest lyrics are', df_sptfy['num_words'].min(), 'words in length')\n",
    "print('The shortest lyrics are', df_sptfy['num_words'].max(), 'words in length')\n",
    "print('The fastest tempo in the dataset is', df_sptfy['tempo'].max())\n",
    "print('The shortest tempo in the dataset is', df_sptfy['tempo'].min())\n",
    "print('The average tempo in the dataset is', df_sptfy['tempo'].mean())\n",
    "print('There are', df_sptfy['artist_clean'].nunique(), 'unique artists')"
   ]
  },
  {
   "cell_type": "code",
   "execution_count": 5,
   "metadata": {
    "tags": []
   },
   "outputs": [
    {
     "data": {
      "text/plain": [
       "year\n",
       "1969    101\n",
       "1960    100\n",
       "1973    100\n",
       "1961    100\n",
       "1988    100\n",
       "1986    100\n",
       "1985    100\n",
       "1984    100\n",
       "1981    100\n",
       "1978    100\n",
       "1977    100\n",
       "1975    100\n",
       "1974    100\n",
       "1989    100\n",
       "1972    100\n",
       "1967    100\n",
       "1971    100\n",
       "1965    100\n",
       "1963    100\n",
       "1968    100\n",
       "1970    100\n",
       "1979     99\n",
       "1992     99\n",
       "1982     99\n",
       "1983     99\n",
       "1966     99\n",
       "1964     99\n",
       "1987     99\n",
       "1976     99\n",
       "1962     99\n",
       "1980     99\n",
       "1991     99\n",
       "1990     98\n",
       "1999     97\n",
       "2003     97\n",
       "1993     95\n",
       "2000     95\n",
       "2002     94\n",
       "2005     94\n",
       "1994     93\n",
       "2015     93\n",
       "2012     92\n",
       "1996     92\n",
       "2001     92\n",
       "2004     91\n",
       "2007     91\n",
       "2017     91\n",
       "2008     90\n",
       "2011     90\n",
       "1995     90\n",
       "2006     89\n",
       "2013     89\n",
       "2014     89\n",
       "1998     88\n",
       "2009     88\n",
       "2010     86\n",
       "1997     86\n",
       "2016     86\n",
       "Name: count, dtype: int64"
      ]
     },
     "execution_count": 5,
     "metadata": {},
     "output_type": "execute_result"
    }
   ],
   "source": [
    "df_sptfy['year'].value_counts()"
   ]
  },
  {
   "cell_type": "markdown",
   "metadata": {},
   "source": [
    "### Filter by decade"
   ]
  },
  {
   "cell_type": "code",
   "execution_count": 8,
   "metadata": {
    "tags": []
   },
   "outputs": [],
   "source": [
    "value_counts = df_sptfy['decade'].value_counts()\n",
    "\n",
    "grouped_data = df_sptfy.groupby('decade')\n",
    "\n",
    "for value, group in grouped_data:\n",
    "    group_name = f\"df_year_{value}\"  # Creating a unique name for each DataFrame\n",
    "    globals()[group_name] = group.copy()"
   ]
  },
  {
   "cell_type": "code",
   "execution_count": 21,
   "metadata": {
    "tags": []
   },
   "outputs": [
    {
     "name": "stdout",
     "output_type": "stream",
     "text": [
      "Global DataFrame 'df_year_1960' has 998 entries.\n",
      "Global DataFrame 'df_year_1970' has 998 entries.\n",
      "Global DataFrame 'df_year_1980' has 996 entries.\n",
      "Global DataFrame 'df_year_1990' has 937 entries.\n",
      "Global DataFrame 'df_year_2000' has 921 entries.\n",
      "Global DataFrame 'df_year_2010' has 716 entries.\n"
     ]
    }
   ],
   "source": [
    "for value in value_counts.index:\n",
    "    global_variable_name = f\"df_year_{value}\"\n",
    "    print(f\"Global DataFrame '{global_variable_name}' has {len(globals()[global_variable_name])} entries.\")"
   ]
  },
  {
   "cell_type": "markdown",
   "metadata": {},
   "source": [
    "# We probably have to test and training splits for each decade."
   ]
  },
  {
   "cell_type": "markdown",
   "metadata": {},
   "source": [
    "### Create TF-IDF vectorizer for each decade"
   ]
  },
  {
   "cell_type": "markdown",
   "metadata": {},
   "source": [
    "For each document in the test split, classify the document using KNN on the document tf-idf vectors with k=5 and cosine similarity. "
   ]
  },
  {
   "cell_type": "markdown",
   "metadata": {},
   "source": [
    "Note: you should only be comparing against the documents in the train split for classification, not those in the test split. Report the performance of your model. Compute micro- and macro-F1."
   ]
  },
  {
   "cell_type": "code",
   "execution_count": null,
   "metadata": {},
   "outputs": [],
   "source": [
    "\n",
    "vectorizer = TfidfVectorizer(min_df=5)\n",
    "X_train = vectorizer.fit_transform(df_year_1960['article'])\n",
    "y_train = df_train['label']\n",
    "\n",
    "knn = KNeighborsClassifier(n_neighbors=5, metric='cosine')\n",
    "knn.fit(X_train, y_train)\n",
    "\n",
    "X_test = vectorizer.transform(df_test['article'])\n",
    "y_test = df_test['label']\n",
    "\n",
    "y_pred = knn.predict(X_test)\n",
    "print('Precision:', precision_score(y_test, y_pred, average=None))\n",
    "print('Recall:', recall_score(y_test, y_pred, average=None))\n",
    "print('Micro F1: {:.3f}'.format(f1_score(y_test, y_pred, average='micro')))\n",
    "print('Macro F1: {:.3f}'.format(f1_score(y_test, y_pred, average='macro')))"
   ]
  },
  {
   "cell_type": "markdown",
   "metadata": {},
   "source": [
    "Report the per-class F1-scores for the test split"
   ]
  },
  {
   "cell_type": "code",
   "execution_count": null,
   "metadata": {},
   "outputs": [],
   "source": [
    "print('F1 score per class:', format(f1_score(y_test, y_pred, average=None)))\n",
    "from sklearn.metrics import classification_report\n",
    "print(classification_report(df_test['label'], y_pred))"
   ]
  },
  {
   "cell_type": "markdown",
   "metadata": {},
   "source": [
    "Create confusion matrix"
   ]
  },
  {
   "cell_type": "code",
   "execution_count": null,
   "metadata": {
    "tags": []
   },
   "outputs": [],
   "source": [
    "import matplotlib.pyplot as plt\n",
    "import seaborn as sns\n",
    "import numpy as np\n",
    "\n",
    "# Compute confusion matrix\n",
    "conf_matrix = confusion_matrix(df_test['label'], df_test['predicted_label'], labels=[1, 2, 3, 4])\n",
    "\n",
    "# Display confusion matrix\n",
    "print(conf_matrix)\n",
    "\n",
    "# Display confusion matrix with labels\n",
    "sns.heatmap(conf_matrix, annot=True, fmt='d', cmap='Blues', xticklabels=[1, 2, 3, 4], yticklabels=[1, 2, 3, 4])\n",
    "plt.xlabel('Predicted')\n",
    "plt.ylabel('Actual')\n",
    "plt.title('Confusion Matrix')\n",
    "plt.show()"
   ]
  }
 ],
 "metadata": {
  "kernelspec": {
   "display_name": "Python 3 (ipykernel)",
   "language": "python",
   "name": "python3"
  },
  "language_info": {
   "codemirror_mode": {
    "name": "ipython",
    "version": 3
   },
   "file_extension": ".py",
   "mimetype": "text/x-python",
   "name": "python",
   "nbconvert_exporter": "python",
   "pygments_lexer": "ipython3",
   "version": "3.11.5"
  }
 },
 "nbformat": 4,
 "nbformat_minor": 4
}

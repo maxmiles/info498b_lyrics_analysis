{
 "cells": [
  {
   "cell_type": "markdown",
   "metadata": {},
   "source": [
    "# Genre Prediction"
   ]
  },
  {
   "cell_type": "markdown",
   "metadata": {},
   "source": [
    "## What are the 10 most popular genres per decade on spotify?"
   ]
  },
  {
   "cell_type": "markdown",
   "metadata": {},
   "source": [
    "### Import Libraries"
   ]
  },
  {
   "cell_type": "code",
   "execution_count": 18,
   "metadata": {
    "tags": []
   },
   "outputs": [],
   "source": [
    "import pandas as pd\n",
    "from sklearn.feature_extraction.text import TfidfVectorizer\n",
    "import random\n",
    "from sklearn.linear_model import LogisticRegression\n",
    "from sklearn.neighbors import KNeighborsClassifier\n",
    "from sklearn.metrics import accuracy_score, precision_score, recall_score, f1_score, confusion_matrix\n",
    "from sklearn.neighbors import KNeighborsClassifier\n",
    "from sklearn.metrics import f1_score\n",
    "from sklearn.metrics import classification_report\n",
    "from sklearn.model_selection import train_test_split\n",
    "import spacy"
   ]
  },
  {
   "cell_type": "markdown",
   "metadata": {},
   "source": [
    "### Load Dataset"
   ]
  },
  {
   "cell_type": "code",
   "execution_count": 4,
   "metadata": {
    "tags": []
   },
   "outputs": [
    {
     "name": "stdout",
     "output_type": "stream",
     "text": [
      "(5566, 30)\n",
      "(5491, 30)\n"
     ]
    }
   ],
   "source": [
    "df_sptfy = pd.read_csv('data/billboard-lyrics-spotify.csv')\n",
    "print(df_sptfy.shape)\n",
    "df_sptfy = df_sptfy[df_sptfy['num_words'] > 1]\n",
    "df_sptfy.dropna(subset=['lyrics'], inplace=True)\n",
    "print(df_sptfy.shape)"
   ]
  },
  {
   "cell_type": "code",
   "execution_count": 63,
   "metadata": {
    "tags": []
   },
   "outputs": [
    {
     "data": {
      "text/html": [
       "<div>\n",
       "<style scoped>\n",
       "    .dataframe tbody tr th:only-of-type {\n",
       "        vertical-align: middle;\n",
       "    }\n",
       "\n",
       "    .dataframe tbody tr th {\n",
       "        vertical-align: top;\n",
       "    }\n",
       "\n",
       "    .dataframe thead th {\n",
       "        text-align: right;\n",
       "    }\n",
       "</style>\n",
       "<table border=\"1\" class=\"dataframe\">\n",
       "  <thead>\n",
       "    <tr style=\"text-align: right;\">\n",
       "      <th></th>\n",
       "      <th>artist_all</th>\n",
       "      <th>artist_base</th>\n",
       "      <th>rank</th>\n",
       "      <th>song</th>\n",
       "      <th>year</th>\n",
       "      <th>artist_featured</th>\n",
       "      <th>song_clean</th>\n",
       "      <th>artist_clean</th>\n",
       "      <th>lyrics</th>\n",
       "      <th>acousticness</th>\n",
       "      <th>...</th>\n",
       "      <th>tempo</th>\n",
       "      <th>time_signature</th>\n",
       "      <th>valence</th>\n",
       "      <th>duration_min</th>\n",
       "      <th>num_words</th>\n",
       "      <th>words_per_sec</th>\n",
       "      <th>num_uniq_words</th>\n",
       "      <th>decade</th>\n",
       "      <th>uniq_ratio</th>\n",
       "      <th>sentiment</th>\n",
       "    </tr>\n",
       "  </thead>\n",
       "  <tbody>\n",
       "    <tr>\n",
       "      <th>0</th>\n",
       "      <td>percy faith</td>\n",
       "      <td>percy faith</td>\n",
       "      <td>1</td>\n",
       "      <td>theme from a summer place</td>\n",
       "      <td>1960</td>\n",
       "      <td>NaN</td>\n",
       "      <td>theme from a summer place</td>\n",
       "      <td>percy faith</td>\n",
       "      <td>theres a summer place where it may rain or sto...</td>\n",
       "      <td>0.631</td>\n",
       "      <td>...</td>\n",
       "      <td>92.631</td>\n",
       "      <td>4.0</td>\n",
       "      <td>0.749</td>\n",
       "      <td>2.414883</td>\n",
       "      <td>104.0</td>\n",
       "      <td>0.717771</td>\n",
       "      <td>58.0</td>\n",
       "      <td>1960</td>\n",
       "      <td>1.793103</td>\n",
       "      <td>1</td>\n",
       "    </tr>\n",
       "    <tr>\n",
       "      <th>1</th>\n",
       "      <td>jim reeves</td>\n",
       "      <td>jim reeves</td>\n",
       "      <td>2</td>\n",
       "      <td>he'll have to go</td>\n",
       "      <td>1960</td>\n",
       "      <td>NaN</td>\n",
       "      <td>hell have to go</td>\n",
       "      <td>jim reeves</td>\n",
       "      <td>put your sweet lips a little closer to the pho...</td>\n",
       "      <td>0.909</td>\n",
       "      <td>...</td>\n",
       "      <td>81.181</td>\n",
       "      <td>3.0</td>\n",
       "      <td>0.200</td>\n",
       "      <td>2.310667</td>\n",
       "      <td>152.0</td>\n",
       "      <td>1.096365</td>\n",
       "      <td>69.0</td>\n",
       "      <td>1960</td>\n",
       "      <td>2.202899</td>\n",
       "      <td>0</td>\n",
       "    </tr>\n",
       "    <tr>\n",
       "      <th>2</th>\n",
       "      <td>the everly brothers</td>\n",
       "      <td>the everly brothers</td>\n",
       "      <td>3</td>\n",
       "      <td>cathy's clown</td>\n",
       "      <td>1960</td>\n",
       "      <td>NaN</td>\n",
       "      <td>cathys clown</td>\n",
       "      <td>the everly brothers</td>\n",
       "      <td>dont want your love any more dont want your k...</td>\n",
       "      <td>0.412</td>\n",
       "      <td>...</td>\n",
       "      <td>119.809</td>\n",
       "      <td>4.0</td>\n",
       "      <td>0.866</td>\n",
       "      <td>2.400217</td>\n",
       "      <td>121.0</td>\n",
       "      <td>0.840202</td>\n",
       "      <td>64.0</td>\n",
       "      <td>1960</td>\n",
       "      <td>1.890625</td>\n",
       "      <td>1</td>\n",
       "    </tr>\n",
       "  </tbody>\n",
       "</table>\n",
       "<p>3 rows × 31 columns</p>\n",
       "</div>"
      ],
      "text/plain": [
       "            artist_all          artist_base  rank                       song  \\\n",
       "0          percy faith          percy faith     1  theme from a summer place   \n",
       "1           jim reeves           jim reeves     2           he'll have to go   \n",
       "2  the everly brothers  the everly brothers     3              cathy's clown   \n",
       "\n",
       "   year artist_featured                 song_clean         artist_clean  \\\n",
       "0  1960             NaN  theme from a summer place          percy faith   \n",
       "1  1960             NaN            hell have to go           jim reeves   \n",
       "2  1960             NaN               cathys clown  the everly brothers   \n",
       "\n",
       "                                              lyrics  acousticness  ...  \\\n",
       "0  theres a summer place where it may rain or sto...         0.631  ...   \n",
       "1  put your sweet lips a little closer to the pho...         0.909  ...   \n",
       "2   dont want your love any more dont want your k...         0.412  ...   \n",
       "\n",
       "     tempo  time_signature  valence  duration_min  num_words  words_per_sec  \\\n",
       "0   92.631             4.0    0.749      2.414883      104.0       0.717771   \n",
       "1   81.181             3.0    0.200      2.310667      152.0       1.096365   \n",
       "2  119.809             4.0    0.866      2.400217      121.0       0.840202   \n",
       "\n",
       "   num_uniq_words  decade  uniq_ratio sentiment  \n",
       "0            58.0    1960    1.793103         1  \n",
       "1            69.0    1960    2.202899         0  \n",
       "2            64.0    1960    1.890625         1  \n",
       "\n",
       "[3 rows x 31 columns]"
      ]
     },
     "execution_count": 63,
     "metadata": {},
     "output_type": "execute_result"
    }
   ],
   "source": [
    "df_sptfy.head(3)"
   ]
  },
  {
   "cell_type": "code",
   "execution_count": null,
   "metadata": {},
   "outputs": [],
   "source": [
    "# Do we still need these two blocks:"
   ]
  },
  {
   "cell_type": "markdown",
   "metadata": {},
   "source": [
    "This is not scientifically proven but as a simplification, I'm adding a sentiment column with either 'positive' (1) or 'negative' (0), depending on the valence. Calculated where >50 valence is positive and <50 valence is negative. In Spotify's API is something called Valence, that describes the musical positiveness conveyed by a track. Tracks with high valence sound more positive (happy, cheerful, euphoric), while tracks with low valence sound more negative (sad, depressed, angry)."
   ]
  },
  {
   "cell_type": "code",
   "execution_count": 6,
   "metadata": {
    "tags": []
   },
   "outputs": [],
   "source": [
    "df_sptfy['sentiment'] = df_sptfy['valence'].apply(lambda x: 1 if x > 0.5 else 0)"
   ]
  },
  {
   "cell_type": "markdown",
   "metadata": {},
   "source": [
    "### Dataset statistics"
   ]
  },
  {
   "cell_type": "code",
   "execution_count": 7,
   "metadata": {
    "tags": []
   },
   "outputs": [
    {
     "name": "stdout",
     "output_type": "stream",
     "text": [
      "There are 5491 songs in the dataset\n",
      "The earliest year in the dataset is from 1960\n",
      "The latest year in the dataset is from 2017\n",
      "The shortest lyrics are 5.0 words in length\n",
      "The longest lyrics are 1143.0 words in length\n",
      "The fastest tempo in the dataset is 233.429\n",
      "The shortest tempo in the dataset is 50.975\n",
      "The average tempo in the dataset is 119.34795571401764\n",
      "There are 2229 unique artists\n"
     ]
    }
   ],
   "source": [
    "print('There are', len(df_sptfy), 'songs in the dataset')\n",
    "print('The earliest year in the dataset is from', df_sptfy['year'].min())\n",
    "print('The latest year in the dataset is from', df_sptfy['year'].max())\n",
    "print('The shortest lyrics are', df_sptfy['num_words'].min(), 'words in length')\n",
    "print('The longest lyrics are', df_sptfy['num_words'].max(), 'words in length')\n",
    "print('The fastest tempo in the dataset is', df_sptfy['tempo'].max())\n",
    "print('The shortest tempo in the dataset is', df_sptfy['tempo'].min())\n",
    "print('The average tempo in the dataset is', df_sptfy['tempo'].mean())\n",
    "print('There are', df_sptfy['artist_clean'].nunique(), 'unique artists')"
   ]
  },
  {
<<<<<<< HEAD
=======
   "cell_type": "code",
   "execution_count": 20,
   "metadata": {
    "tags": []
   },
   "outputs": [
    {
     "data": {
      "text/plain": [
       "decade\n",
       "1960    998\n",
       "1970    998\n",
       "1980    996\n",
       "1990    937\n",
       "2000    921\n",
       "2010    716\n",
       "Name: count, dtype: int64"
      ]
     },
     "execution_count": 20,
     "metadata": {},
     "output_type": "execute_result"
    }
   ],
   "source": [
    "df_sptfy['decade'].value_counts()"
   ]
  },
  {
>>>>>>> f0e7684546fa90c628ca270d6e9359b963697b89
   "cell_type": "markdown",
   "metadata": {},
   "source": [
    "### Filter by decade"
   ]
  },
  {
   "cell_type": "code",
   "execution_count": 9,
   "metadata": {
    "tags": []
   },
   "outputs": [],
   "source": [
    "value_counts = df_sptfy['decade'].value_counts()\n",
    "\n",
    "grouped_data = df_sptfy.groupby('decade')\n",
    "\n",
    "for value, group in grouped_data:\n",
    "    group_name = f\"df_year_{value}\"  # Creating a unique name for each DataFrame\n",
    "    globals()[group_name] = group.copy()"
   ]
  },
  {
   "cell_type": "code",
   "execution_count": 10,
   "metadata": {
    "tags": []
   },
   "outputs": [
    {
     "name": "stdout",
     "output_type": "stream",
     "text": [
      "Global DataFrame 'df_year_1980' has 991 entries.\n",
      "Global DataFrame 'df_year_1970' has 981 entries.\n",
      "Global DataFrame 'df_year_1960' has 960 entries.\n",
      "Global DataFrame 'df_year_1990' has 931 entries.\n",
      "Global DataFrame 'df_year_2000' has 919 entries.\n",
      "Global DataFrame 'df_year_2010' has 709 entries.\n"
     ]
    }
   ],
   "source": [
    "for value in value_counts.index:\n",
    "    global_variable_name = f\"df_year_{value}\"\n",
    "    print(f\"{global_variable_name} has {len(globals()[global_variable_name])} entries\")"
   ]
  },
  {
   "cell_type": "markdown",
   "metadata": {},
   "source": [
    "### Apply NER model to each all lyrics in each decade"
   ]
  },
  {
   "cell_type": "code",
   "execution_count": 33,
   "metadata": {},
   "outputs": [],
   "source": [
    "nlp = spacy.load('en_core_web_sm')\n",
    "for value in value_counts.index:\n",
    "    df = f\"df_year_{value}\"\n",
    "    list_name = f\"lyrics_{value}\"\n",
    "    globals()[list_name] = []\n",
    "    for song in globals()[df]['lyrics']:\n",
    "        globals()[list_name].append(nlp(song))"
   ]
  },
  {
   "cell_type": "markdown",
   "metadata": {},
   "source": [
    "### Evaluate most common entities per decade"
   ]
  },
  {
   "cell_type": "code",
   "execution_count": 34,
   "metadata": {},
   "outputs": [
    {
     "name": "stdout",
     "output_type": "stream",
     "text": [
      "Average entities per document: 3.340625\n",
      "Average entity type per document:\n",
      "DATE 0.7541666666666667\n",
      "CARDINAL 0.603125\n",
      "NORP 0.10104166666666667\n",
      "PERSON 0.64375\n",
      "TIME 0.5010416666666667\n",
      "LOC 0.046875\n",
      "GPE 0.26666666666666666\n",
      "ORDINAL 0.090625\n",
      "QUANTITY 0.04479166666666667\n",
      "ORG 0.16979166666666667\n",
      "PRODUCT 0.01875\n",
      "MONEY 0.0125\n",
      "FAC 0.078125\n",
      "EVENT 0.0010416666666666667\n",
      "WORK_OF_ART 0.008333333333333333\n"
     ]
    }
   ],
   "source": [
    "# Average entities per decade\n",
    "# Could be converted into a loop over each decade\n",
    "\n",
    "from collections import Counter\n",
    "c = Counter()\n",
    "sum = 0\n",
    "for song in globals()['lyrics_1960']:\n",
    "    sum += len(song.ents)\n",
    "    c.update([e.label_ for e in song.ents])\n",
    "    \n",
    "print('Average entities per document:', sum / len(globals()['df_year_1960']))\n",
    "print('Average entity type per document:')\n",
    "for item in c:\n",
    "    print(item, c[item] / len(globals()['df_year_1960']))"
   ]
  },
  {
   "cell_type": "code",
   "execution_count": 42,
   "metadata": {},
   "outputs": [
    {
     "name": "stdout",
     "output_type": "stream",
     "text": [
      "DATE today\n",
      "CARDINAL one\n",
      "NORP mans\n",
      "PERSON mony mony\n",
      "TIME tonight\n",
      "LOC nova\n",
      "GPE new orleans\n",
      "ORDINAL first\n",
      "QUANTITY twenty miles\n",
      "ORG ooma mow mow\n",
      "PRODUCT mir mir\n",
      "MONEY fifty cents\n",
      "FAC la la\n",
      "EVENT yeaaah\n",
      "WORK_OF_ART playboy\n"
     ]
    }
   ],
   "source": [
    "# Most common span per entity type in one decade\n",
    "# Could be converted into a loop over each decade\n",
    "\n",
    "for item in c:\n",
    "    c[item] = []\n",
    "for song in globals()['lyrics_1960']:\n",
    "    for ent in song.ents:\n",
    "        c[ent.label_].append(ent.text)\n",
    "\n",
    "for item in c:\n",
    "    print(item, Counter(c[item]).most_common(1)[0][0])"
   ]
  },
  {
   "cell_type": "code",
   "execution_count": 41,
   "metadata": {},
   "outputs": [
    {
     "name": "stdout",
     "output_type": "stream",
     "text": [
      "day DATE\n",
      "moi mon PERSON\n",
      "appelle moi PERSON\n",
      "the 1980s DATE\n",
      "hoo ORG\n",
      "day DATE\n",
      "evening TIME\n",
      "summer DATE\n",
      "summer DATE\n",
      "summer DATE\n",
      "two CARDINAL\n",
      "summer DATE\n",
      "two CARDINAL\n",
      "some day DATE\n",
      "one CARDINAL\n",
      "one CARDINAL\n",
      "one CARDINAL\n",
      "one CARDINAL\n",
      "one CARDINAL\n",
      "one more day DATE\n",
      "one CARDINAL\n",
      "one CARDINAL\n",
      "some day DATE\n",
      "one CARDINAL\n",
      "one CARDINAL\n",
      "one CARDINAL\n",
      "one CARDINAL\n",
      "the night TIME\n",
      "tonight TIME\n",
      "tonight TIME\n",
      "tonight TIME\n",
      "tonight TIME\n",
      "tonight TIME\n",
      "tonight TIME\n"
     ]
    }
   ],
   "source": [
    "# This doesn't do anything specific for the project. I just made it to help visualize\n",
    "# Loops through each decade, then each song in each decade, then each entity in each song\n",
    "\n",
    "for value in value_counts.index:\n",
    "    df = f\"df_year_{value}\"\n",
    "    list_name = f\"{value}_lyrics\"\n",
    "    for song in globals()[list_name]:\n",
    "        for token in song.ents:\n",
    "            print(token.text, token.label_)\n",
    "        break"
   ]
  },
  {
   "cell_type": "code",
   "execution_count": 62,
   "metadata": {},
   "outputs": [
    {
     "name": "stdout",
     "output_type": "stream",
     "text": [
      "1960 total counts: Counter({('one', 'CARDINAL'): 161, ('tonight', 'TIME'): 122, ('two', 'CARDINAL'): 111, ('today', 'DATE'): 90, ('first', 'ORDINAL'): 52, ('night', 'TIME'): 51, ('tomorrow', 'DATE'): 49, ('the day', 'DATE'): 39, ('summer', 'DATE'): 31, ('the night', 'TIME'): 29, ('morning', 'TIME'): 27, ('new orleans', 'GPE'): 24, ('sunday', 'DATE'): 24, ('ooma mow mow', 'ORG'): 24, ('monday', 'DATE'): 23, ('four', 'CARDINAL'): 22, ('yesterday', 'DATE'): 21, ('mans', 'NORP'): 21, ('every night', 'TIME'): 20, ('three', 'CARDINAL'): 20, ('last night', 'TIME'): 20, ('california', 'GPE'): 19, ('all night', 'TIME'): 18, ('feelin', 'GPE'): 18, ('some day', 'DATE'): 17, ('days', 'DATE'): 17, ('mony mony', 'PERSON'): 17, ('five', 'CARDINAL'): 15, ('michael', 'PERSON'): 15, ('duke duke', 'PERSON'): 15, ('the morning', 'TIME'): 15, ('nova', 'LOC'): 15, ('thousand', 'CARDINAL'): 15, ('a million', 'CARDINAL'): 14, ('georgia', 'GPE'): 14, ('half', 'CARDINAL'): 14, ('one day', 'DATE'): 13, ('la la', 'FAC'): 13, ('earl duke', 'PERSON'): 13, ('every day', 'DATE'): 13, ('la la la la la', 'FAC'): 13, ('six', 'CARDINAL'): 12, ('the days', 'DATE'): 12, ('friday', 'DATE'): 12, ('surf city', 'GPE'): 12, ('each night', 'TIME'): 11, ('all day', 'DATE'): 11, ('whoo', 'ORG'): 11, ('only one', 'CARDINAL'): 11, ('overnight', 'TIME'): 11, ('san jose', 'GPE'): 11, ('nine', 'CARDINAL'): 10, ('these days', 'DATE'): 10, ('bristol', 'ORG'): 10, ('jesus', 'PERSON'): 10, ('joe', 'PERSON'): 10, ('playboy', 'ORG'): 10, ('jimmy', 'PERSON'): 10, ('new york city', 'GPE'): 10, ('seventh', 'ORDINAL'): 10, ('634', 'CARDINAL'): 10, ('sally', 'PERSON'): 9, ('each day', 'DATE'): 9, ('mir mir', 'PRODUCT'): 9, ('twenty miles', 'QUANTITY'): 9, ('wah diddy diddy dum diddy', 'PERSON'): 9, ('bird bird bird', 'ORG'): 9, ('nine teenth', 'DATE'): 9, ('5789', 'DATE'): 9, ('afternoon', 'TIME'): 9, ('indian', 'NORP'): 8, ('seven', 'CARDINAL'): 8, ('a million years', 'DATE'): 8, ('the years', 'DATE'): 8, ('that day', 'DATE'): 8, ('the summer', 'DATE'): 8, ('another day', 'DATE'): 8, ('1 2 3', 'CARDINAL'): 8, ('sixteen', 'CARDINAL'): 7, ('german', 'NORP'): 7, ('un', 'ORG'): 7, ('earl', 'PERSON'): 7, ('bristol', 'GPE'): 7, ('mary lou', 'PERSON'): 7, ('la la la la la la la la la la', 'FAC'): 7, ('hoo', 'ORG'): 7, ('johnny angel', 'PERSON'): 7, ('midnight', 'TIME'): 7, ('night night', 'TIME'): 7, ('la la la la', 'FAC'): 7, ('eighty', 'CARDINAL'): 7, ('tuesday', 'DATE'): 7, ('buttercup', 'PERSON'): 7, ('ten', 'CARDINAL'): 6, ('this morning', 'TIME'): 6, ('kentucky', 'GPE'): 6, ('nights', 'TIME'): 6, ('early in the morning', 'TIME'): 6, ('french', 'NORP'): 6, ('wolverton', 'GPE'): 6, ('aah', 'NORP'): 6, ('washington', 'GPE'): 6, ('a hard days night', 'DATE'): 6, ('ooma mow mow ooma mow mow', 'ORG'): 6, ('eight days', 'DATE'): 6, ('ninety six', 'CARDINAL'): 6, ('san francisco', 'GPE'): 6, ('98 6', 'CARDINAL'): 6, ('jean', 'NORP'): 6, ('a million miles', 'QUANTITY'): 6, ('one night', 'TIME'): 5, ('mm', 'PERSON'): 5, ('jack', 'PERSON'): 5, ('ma ri', 'PERSON'): 5, ('spring', 'DATE'): 5, ('fallin', 'CARDINAL'): 5, ('million', 'CARDINAL'): 5, ('every day of the year', 'DATE'): 5, ('god', 'PERSON'): 5, ('mary lou goodbye', 'PERSON'): 5, ('saturday', 'DATE'): 5, ('last summer', 'DATE'): 5, ('a minute', 'TIME'): 5, ('playboy', 'WORK_OF_ART'): 5, ('september', 'DATE'): 5, ('norman norman', 'PERSON'): 5, ('third', 'ORDINAL'): 5, ('diane', 'PERSON'): 5, ('las vegas', 'GPE'): 5, ('south street', 'LOC'): 5, ('a thousand', 'CARDINAL'): 5, ('one fine day', 'DATE'): 5, ('martian', 'NORP'): 5, ('the hill', 'FAC'): 5, ('day', 'DATE'): 5, ('second', 'ORDINAL'): 5, ('sam', 'PERSON'): 5, ('bang bang', 'PERSON'): 5, ('barbara ann', 'PERSON'): 5, ('a reelin barbara ann', 'PERSON'): 5, ('germany', 'GPE'): 5, ('geese', 'NORP'): 5, ('eight', 'CARDINAL'): 4, ('twelve', 'CARDINAL'): 4, ('british', 'NORP'): 4, ('ga ang', 'PERSON'): 4, ('dan tucker', 'PERSON'): 4, ('kinda', 'PERSON'): 4, ('dontcha', 'PERSON'): 4, ('ya ya ya ya', 'PERSON'): 4, ('nah nah nah', 'PERSON'): 4, ('china', 'GPE'): 4, ('just a hundred pounds', 'CARDINAL'): 4, ('4', 'CARDINAL'): 4, ('spanish', 'NORP'): 4, ('wednesday', 'DATE'): 4, ('thursday', 'DATE'): 4, ('last year', 'DATE'): 4, ('ramblin', 'GPE'): 4, ('johnny', 'PERSON'): 4, ('109', 'CARDINAL'): 4, ('jump senora', 'PERSON'): 4, ('a day', 'DATE'): 4, ('livin', 'PERSON'): 4, ('womans', 'NORP'): 4, ('ya', 'PERSON'): 4, ('the hours', 'TIME'): 4, ('donna donna', 'PERSON'): 4, ('donna', 'PERSON'): 4, ('ronnie ronnie', 'PERSON'): 4, ('hush hush', 'PERSON'): 4, ('eighth', 'ORDINAL'): 4, ('monday monday', 'DATE'): 4, ('sunshine softer', 'PERSON'): 4, ('years', 'DATE'): 4, ('miller', 'ORG'): 4, ('ya mony mo', 'PERSON'): 4, ('mony', 'PERSON'): 4, ('simon', 'PERSON'): 4, ('one more hour', 'TIME'): 4, ('proud hu', 'PERSON'): 4, ('early morning', 'TIME'): 4, ('mexican', 'NORP'): 3, ('thirteen', 'CARDINAL'): 3, ('winter', 'DATE'): 3, ('kemo', 'PERSON'): 3, ('7', 'CARDINAL'): 3, ('number one', 'CARDINAL'): 3, ('evening', 'TIME'): 3, ('monday morning', 'TIME'): 3, ('travelin', 'GPE'): 3, ('mexico', 'GPE'): 3, ('hoo hoo hoo hoo', 'PERSON'): 3, ('a quarter', 'DATE'): 3, ('moon moon blue moon', 'FAC'): 3, ('this night', 'TIME'): 3, ('ya ya sittin', 'PERSON'): 3, ('this minute', 'TIME'): 3, ('larry', 'PERSON'): 3, ('ten feet', 'QUANTITY'): 3, ('alamo', 'FAC'): 3, ('john', 'PERSON'): 3, ('flo', 'ORG'): 3, ('moscow', 'GPE'): 3, ('new york', 'GPE'): 3, ('al di la', 'PERSON'): 3, ('johnny show', 'PERSON'): 3, ('arab', 'NORP'): 3, ('clyde', 'PERSON'): 3, ('8', 'CARDINAL'): 3, ('this very day', 'DATE'): 3, ('each morning', 'TIME'): 3, ('japan', 'GPE'): 3, ('safari', 'PERSON'): 3, ('honalee', 'ORG'): 3, ('judy', 'PERSON'): 3, ('our day', 'DATE'): 3, ('da doo ron ron ron da doo ron ron', 'PERSON'): 3, ('ron da doo ron ron', 'PERSON'): 3, ('koala', 'PERSON'): 3, ('chicago', 'GPE'): 3, ('satin blue velvet', 'PERSON'): 3, ('colorado', 'GPE'): 3, ('summer days', 'DATE'): 3, ('a week', 'DATE'): 3, ('hatty', 'PERSON'): 3, ('fifty cents', 'MONEY'): 3, ('two hours', 'TIME'): 3, ('twelve four', 'CARDINAL'): 3, ('the spring', 'DATE'): 3, ('mia mine cara mia mine cara', 'ORG'): 3, ('jingle', 'ORG'): 3, ('charlotte charlotte', 'PERSON'): 3, ('thirty fourth', 'DATE'): 3, ('one hundred', 'CARDINAL'): 3, ('hooray', 'PERSON'): 3, ('the john bs sail', 'FAC'): 3, ('the next day', 'DATE'): 3, ('ann barbara ann', 'PERSON'): 3, ('de la', 'PERSON'): 3, ('a hundred', 'CARDINAL'): 3, ('da la', 'PERSON'): 3, ('hoo', 'PERSON'): 3, ('sha', 'TIME'): 3, ('the day a day', 'DATE'): 3, ('mrs robinson', 'PERSON'): 3, ('para pararara', 'PERSON'): 3, ('sha sha', 'TIME'): 3, ('rollin rollin', 'PERSON'): 3, ('atlantis', 'PRODUCT'): 3, ('rosemarie rosemarie', 'PERSON'): 3, ('the best years', 'DATE'): 3, ('sixteen', 'DATE'): 2, ('west texas', 'LOC'): 2, ('el paso', 'GPE'): 2, ('offa', 'GPE'): 2, ('fifteen', 'CARDINAL'): 2, ('seventeen', 'CARDINAL'): 2, ('fifteen miles', 'QUANTITY'): 2, ('indians', 'NORP'): 2, ('mule skinner', 'PERSON'): 2, ('johnny preston', 'PERSON'): 2, ('1960', 'DATE'): 2, ('the moon', 'LOC'): 2, ('this dime', 'TIME'): 2, ('this quarter', 'DATE'): 2, ('a million a million', 'CARDINAL'): 2, ('st bernadette', 'GPE'): 2, ('kiddio dontcha', 'PERSON'): 2, ('bobby', 'PERSON'): 2, ('every evening', 'TIME'): 2, ('nah nah nah nah nah', 'PERSON'): 2, ('5th', 'ORDINAL'): 2, ('dreamin dreamin', 'PERSON'): 2, ('searchin hopin', 'PERSON'): 2, ('the middle of the', 'DATE'): 2, ('wah wah wah', 'PERSON'): 2, ('about twelve to six', 'CARDINAL'): 2, ('smilin', 'ORDINAL'): 2, ('alaska', 'GPE'): 2, ('berlin', 'GPE'): 2, ('hong kong', 'GPE'): 2, ('next day', 'DATE'): 2, ('1961', 'DATE'): 2, ('3', 'CARDINAL'): 2, ('1', 'CARDINAL'): 2, ('a night', 'TIME'): 2, ('bee wah dah', 'PERSON'): 2, ('juliet', 'PERSON'): 2, ('halloween', 'DATE'): 2, ('yellin', 'GPE'): 2, ('larrys', 'PERSON'): 2, ('louisiana', 'GPE'): 2, ('45', 'CARDINAL'): 2, ('sta', 'PERSON'): 2, ('ya ya ya', 'PERSON'): 2, ('clifton', 'GPE'): 2, ('sheila', 'PERSON'): 2, ('norman', 'PERSON'): 2, ('joey', 'PERSON'): 2, ('about a mile', 'QUANTITY'): 2, ('texarkana', 'GPE'): 2, ('dontcha know', 'PERSON'): 2, ('some sunny day', 'DATE'): 2, ('fatima', 'PERSON'): 2, ('ho ho', 'PERSON'): 2, ('june', 'DATE'): 2, ('australian', 'NORP'): 2, ('mac', 'PERSON'): 2, ('honalee', 'PERSON'): 2, ('tellin', 'GPE'): 2, ('moon', 'GPE'): 2, ('muddah', 'PERSON'): 2, ('tennessee', 'GPE'): 2, ('12', 'CARDINAL'): 2, ('a month ago', 'DATE'): 2, ('5 10 cents', 'MONEY'): 2, ('zsa zsa gabor', 'PERSON'): 2, ('1963', 'DATE'): 2, ('jupiter', 'LOC'): 2, ('the evening', 'TIME'): 2, ('earth', 'LOC'): 2, ('detroit', 'GPE'): 2, ('wanna', 'PERSON'): 2, ('nearly every single day', 'DATE'): 2, ('a moment or an hour', 'TIME'): 2, ('screamin', 'GPE'): 2, ('satin my little angel', 'WORK_OF_ART'): 2, ('this day', 'DATE'): 2, ('some day autumn', 'DATE'): 2, ('only yesterday', 'DATE'): 2, ('late at night', 'TIME'): 2, ('a month of nights', 'DATE'): 2, ('foolin', 'PERSON'): 2, ('ian', 'NORP'): 2, ('a hundred years old', 'DATE'): 2, ('the other day', 'DATE'): 2, ('kitty', 'PERSON'): 2, ('a winters day', 'DATE'): 2, ('winters day', 'DATE'): 2, ('four thirty', 'TIME'): 2, ('only three', 'CARDINAL'): 2, ('the bright days', 'DATE'): 2, ('every morning', 'TIME'): 2, ('a thousand years', 'DATE'): 2, ('homeward bound', 'PERSON'): 2, ('a million dollars', 'MONEY'): 2, ('barbara ann barbara ann', 'PERSON'): 2, ('lucy', 'PERSON'): 2, ('the week', 'DATE'): 2, ('taylor', 'PERSON'): 2, ('james brown', 'PERSON'): 2, ('thyme', 'GPE'): 2, ('alfie', 'GPE'): 2, ('la la la la la la', 'FAC'): 2, ('knowin', 'PERSON'): 2, ('the first day', 'DATE'): 2, ('houston', 'GPE'): 2, ('mrs johnson', 'PERSON'): 2, ('cynthia jerry', 'PERSON'): 2, ('la la la la la la la la la', 'FAC'): 2, ('bonnie', 'PERSON'): 2, ('simple simon', 'PERSON'): 2, ('slip simon', 'PERSON'): 2, ('yummy yummy', 'PERSON'): 2, ('three weeks', 'DATE'): 2, ('the united nations', 'ORG'): 2, ('feelin', 'ORDINAL'): 2, ('bobby hart', 'PERSON'): 2, ('every hour of the day', 'TIME'): 2, ('a star weeks', 'DATE'): 2, ('thirty days', 'DATE'): 2, ('paris', 'GPE'): 2, ('the year 2525', 'DATE'): 2, ('the year 3535', 'DATE'): 2, ('standin', 'PERSON'): 2, ('gliddy glup', 'PERSON'): 2, ('nibby', 'PERSON'): 2, ('la la la lo lo sabba sibby sabba nooby abba nabba le le lo lo tooby ooby walla nooby abba', 'FAC'): 2, ('love long ago', 'DATE'): 2, ('north east', 'LOC'): 2, ('rosemarie', 'PERSON'): 2, ('every day every day oh happy day', 'DATE'): 2, ('teen angel teen angel teen angel', 'PERSON'): 1, ('24 hours', 'TIME'): 1, ('greenfields greenfields', 'PERSON'): 1, ('rosas', 'GPE'): 1, ('new mexico', 'GPE'): 1, ('el', 'GPE'): 1, ('a dozen', 'CARDINAL'): 1, ('forfelina', 'PERSON'): 1, ('motah scootah', 'PERSON'): 1, ('hipsville', 'PERSON'): 1, ('s just half', 'CARDINAL'): 1, ('fourteen', 'CARDINAL'): 1, ('1941', 'DATE'): 1, ('germans', 'NORP'): 1, ('six long days', 'DATE'): 1, ('the seventh day', 'DATE'): 1, ('ten hours', 'TIME'): 1, ('isabella', 'PERSON'): 1, ('fourteen ninety two', 'DATE'): 1, ('the night another night', 'TIME'): 1, ('marie osmond', 'PERSON'): 1, ('charlie', 'PERSON'): 1, ('jack fautheree', 'PERSON'): 1, ('ronald e hontz', 'PERSON'): 1, ('just today', 'TIME'): 1, ('las manos', 'PERSON'): 1, ('la cara', 'GPE'): 1, ('llevo', 'PERSON'): 1, ('el cielo infinito', 'PERSON'): 1, ('mas alto que el', 'PERSON'): 1, ('de mi una', 'PERSON'): 1, ('musica', 'PRODUCT'): 1, ('tocada', 'ORG'): 1, ('para mi', 'PERSON'): 1, ('ia', 'GPE'): 1, ('ma ri a', 'PERSON'): 1, ('number three', 'CARDINAL'): 1, ('laura', 'PERSON'): 1, ('a thousand dollar', 'MONEY'): 1, ('laura prays', 'PERSON'): 1, ('the lovely day', 'DATE'): 1, ('chicks kicks', 'ORG'): 1, ('our days', 'DATE'): 1, ('honey dontcha know', 'PERSON'): 1, ('the whole day', 'DATE'): 1, ('nah nah', 'PERSON'): 1, ('jack horner', 'PERSON'): 1, ('1st', 'ORDINAL'): 1, ('2nd', 'CARDINAL'): 1, ('3rd', 'ORDINAL'): 1, ('4th', 'ORDINAL'): 1, ('6th', 'ORDINAL'): 1, ('7th', 'ORDINAL'): 1, ('whooa', 'ORG'): 1, ('dreamin im always', 'ORG'): 1, ('25', 'CARDINAL'): 1, ('sandy sandy', 'PERSON'): 1, ('all last night', 'TIME'): 1, ('cry cry cry', 'PERSON'): 1, ('ya ya baby', 'PERSON'): 1, ('berry chuck', 'PERSON'): 1, ('mamas cookin chicken', 'ORG'): 1, ('fallin fallin', 'PERSON'): 1, ('at least one', 'CARDINAL'): 1, ('a hundred pounds', 'QUANTITY'): 1, ('rama', 'GPE'): 1, ('ding dong', 'PERSON'): 1, ('the year', 'DATE'): 1, ('the flood many days', 'DATE'): 1, ('jim dandy', 'PERSON'): 1, ('moon moon', 'LOC'): 1, ('a thousand miles', 'QUANTITY'): 1, ('one sunny day', 'DATE'): 1, ('last saturday', 'TIME'): 1, ('one early morning', 'TIME'): 1, ('la la la la la la la la la la la la la la la la la la la la', 'FAC'): 1, ('angel lover', 'PERSON'): 1, ('two feet', 'QUANTITY'): 1, ('wooo whooo', 'ORG'): 1, ('whoo whoo whoo', 'ORG'): 1, ('woooo', 'ORG'): 1, ('woooooo whoo whoo', 'ORG'): 1, ('the white house', 'ORG'): 1, ('monday tuesday', 'DATE'): 1, ('dime', 'CARDINAL'): 1, ('mama', 'PERSON'): 1, ('billy joe', 'PERSON'): 1, ('la la la la la la la la la la la la la la la la la la la la la la la', 'FAC'): 1, ('love moon', 'FAC'): 1, ('big john big john evry mornin', 'PERSON'): 1, ('he stood six foot', 'QUANTITY'): 1, ('big john somebody', 'PERSON'): 1, ('big john big bad john', 'PERSON'): 1, ('twenty', 'CARDINAL'): 1, ('big john', 'PERSON'): 1, ('john big bad john big bad john', 'PERSON'): 1, ('bobby rydell', 'PERSON'): 1, ('bernie lowe kal mann', 'PERSON'): 1, ('dave appell', 'PERSON'): 1, ('rubber ball', 'ORG'): 1, ('yeaaah', 'EVENT'): 1, ('yeaaaah', 'NORP'): 1, ('almost twenty years', 'DATE'): 1, ('havana', 'GPE'): 1, ('castro', 'PERSON'): 1, ('about a hundred years', 'DATE'): 1, ('postman mashed potato wait', 'ORG'): 1, ('the big day', 'DATE'): 1, ('johnny angel johnny angel johnny angel', 'PERSON'): 1, ('johnny angel johnny angel johnny angel johnny angel', 'PERSON'): 1, ('johnny angel johnny angel', 'PERSON'): 1, ('janie', 'PERSON'): 1, ('hoo hoo hoo hoo hoo du ooo hoo uke', 'PERSON'): 1, ('hoo hoo ooo uke du hoo hoo uke', 'PERSON'): 1, ('the moon clear', 'LOC'): 1, ('norman bill', 'PERSON'): 1, ('huggin lovey', 'PERSON'): 1, ('dovin norman', 'PERSON'): 1, ('betty sue', 'PERSON'): 1, ('aah aaaaah', 'PERSON'): 1, ('another night', 'TIME'): 1, ('sha', 'CARDINAL'): 1, ('la la la la la la la sha la la la la la la la sha la la la la la la la sha la la la la', 'FAC'): 1, ('a moonlit night', 'TIME'): 1, ('haciendas', 'PERSON'): 1, ('la la la la la la la la la la la la la la la la la la la la la la la la la la', 'FAC'): 1, ('la la la la la la la la la la la la la la la la la la la la la la la la', 'FAC'): 1, ('la la la la la la la la la la la la la la la la la la la la la la la la la la la la la la la la la la la la la la la la la la la la la la la la la la la la la', 'FAC'): 1, ('last day', 'DATE'): 1, ('about a quarter', 'DATE'): 1, ('dah', 'ORG'): 1, ('dj', 'PERSON'): 1, ('jones hammond', 'PERSON'): 1, ('m3', 'PRODUCT'): 1, ('al jackson jr drums', 'PERSON'): 1, ('johnny care', 'PERSON'): 1, ('johnny johnny johnny johnny', 'PERSON'): 1, ('nine years old', 'DATE'): 1, ('moon river', 'GPE'): 1, ('some day old', 'DATE'): 1, ('about midnight', 'TIME'): 1, ('apricot pomegranate bowl', 'ORG'): 1, ('nile', 'LOC'): 1, ('johnny crawford', 'PERSON'): 1, ('1962', 'DATE'): 1, ('that day i first', 'DATE'): 1, ('cinderella', 'PERSON'): 1, ('more than 7', 'CARDINAL'): 1, ('john lawrence', 'PERSON'): 1, ('mule', 'PERSON'): 1, ('43', 'CARDINAL'): 1, ('13', 'CARDINAL'): 1, ('38', 'CARDINAL'): 1, ('kennedy', 'PERSON'): 1, ('jfk', 'PERSON'): 1, ('john big john big john big john', 'PERSON'): 1, ('ya ya ya ya i', 'PERSON'): 1, ('jump jump senora', 'PERSON'): 1, ('las vegas one', 'GPE'): 1, ('las vegas matilda', 'ORG'): 1, ('miami', 'GPE'): 1, ('½', 'PERSON'): 1, ('james dean', 'PERSON'): 1, ('a penny', 'MONEY'): 1, ('about two', 'CARDINAL'): 1, ('five foot', 'QUANTITY'): 1, ('that night', 'TIME'): 1, ('huntington', 'ORG'): 1, ('this year', 'DATE'): 1, ('peru', 'GPE'): 1, ('hairdo surfin', 'PERSON'): 1, ('del mar ventura county line', 'ORG'): 1, ('santa cruz', 'GPE'): 1, ('manhattan', 'GPE'): 1, ('pacific palisades', 'ORG'): 1, ('la jolla', 'GPE'): 1, ('waimea bay everybodys gone surfin surfin', 'FAC'): 1, ('satin', 'PERSON'): 1, ('paula', 'PERSON'): 1, ('kiddin', 'PERSON'): 1, ('幸せは雲の上に 幸せは空の上に 上を向いて歩こう', 'ORG'): 1, ('jackie', 'PERSON'): 1, ('sail jackie', 'PERSON'): 1, ('one grey night', 'QUANTITY'): 1, ('a hundred thousand', 'CARDINAL'): 1, ('mock bird mockinbird', 'ORG'): 1, ('five pound', 'QUANTITY'): 1, ('30', 'CARDINAL'): 1, ('ford', 'ORG'): 1, ('wagon', 'PRODUCT'): 1, ('johnny s', 'PERSON'): 1, ('johnny just', 'PERSON'): 1, ('west street east street', 'LOC'): 1, ('north avenue', 'LOC'): 1, ('cry cry baby cry', 'PERSON'): 1, ('quarter', 'DATE'): 1, ('ron da doo ron ron somebody', 'PERSON'): 1, ('bill da doo ron ron ron da doo ron ron', 'PERSON'): 1, ('ron da doo ron ron someday', 'PERSON'): 1, ('the magic night', 'TIME'): 1, ('camp granada', 'FAC'): 1, ('joe spivey', 'PERSON'): 1, ('granada', 'ORG'): 1, ('oh one night', 'TIME'): 1, ('san francisco bay', 'LOC'): 1, ('jes sittin catchin', 'PERSON'): 1, ('kansas', 'GPE'): 1, ('ten thousand', 'CARDINAL'): 1, ('cole', 'PRODUCT'): 1, ('george david weiss', 'PERSON'): 1, ('joe sherman', 'PERSON'): 1, ('the hills summer', 'DATE'): 1, ('another saturday night', 'TIME'): 1, ('frankenstein', 'PERSON'): 1, ('another weekend', 'DATE'): 1, ('number 15', 'CARDINAL'): 1, ('each minute', 'TIME'): 1, ('oooo', 'PERSON'): 1, ('teddy', 'PERSON'): 1, ('yi yi', 'PERSON'): 1, ('morning noon', 'TIME'): 1, ('many years', 'DATE'): 1, ('mir', 'PERSON'): 1, ('abilene abilene prettiest town', 'PERSON'): 1, ('six feet', 'QUANTITY'): 1, ('detroit city', 'GPE'): 1, ('all these years', 'DATE'): 1, ('travelin', 'PERSON'): 1, ('oooo wah', 'PERSON'): 1, ('ooo wah', 'PERSON'): 1, ('every minute every hour', 'TIME'): 1, ('one year', 'DATE'): 1, ('this world', 'ORG'): 1, ('ohh ohh ohh ohh', 'PERSON'): 1, ('philadelphia', 'GPE'): 1, ('kramer', 'PERSON'): 1, ('1964', 'DATE'): 1, ('ray charles singers', 'PERSON'): 1, ('every winter', 'DATE'): 1, ('dawn', 'TIME'): 1, ('early one morning', 'TIME'): 1, ('late one night', 'TIME'): 1, ('late friday night', 'TIME'): 1, ('jose', 'PERSON'): 1, ('la la la la la la la la la la la la', 'FAC'): 1, ('one foot', 'QUANTITY'): 1, ('389', 'CARDINAL'): 1, ('a quarter mile', 'QUANTITY'): 1, ('just a half', 'CARDINAL'): 1, ('the mississippi bridge', 'FAC'): 1, ('only six years old', 'DATE'): 1, ('thirteen', 'DATE'): 1, ('satin my little angel is', 'WORK_OF_ART'): 1, ('ge', 'ORG'): 1, ('cadillac', 'ORG'): 1, ('a few days ago', 'DATE'): 1, ('pasadena', 'ORG'): 1, ('red super stock dodge', 'ORG'): 1, ('a summers day', 'DATE'): 1, ('summer nights', 'DATE'): 1, ('olha que', 'PERSON'): 1, ('linda mais cheia de graça', 'PERSON'): 1, ('que passa', 'ORG'): 1, ('mar moça', 'PERSON'): 1, ('seu', 'ORG'): 1, ('linda que eu', 'PERSON'): 1, ('também passa', 'ORG'): 1, ('ela soubesse', 'PERSON'): 1, ('quando ela passa', 'PERSON'): 1, ('enche de graça', 'PERSON'): 1, ('two years or', 'DATE'): 1, ('cmon', 'PERSON'): 1, ('bobbys', 'GPE'): 1, ('blue navy', 'ORG'): 1, ('tokyo', 'GPE'): 1, ('a weekend', 'DATE'): 1, ('a forty eight hour day', 'TIME'): 1, ('honda', 'ORG'): 1, ('ten mile', 'QUANTITY'): 1, ('fifteen', 'DATE'): 1, ('datin', 'PERSON'): 1, ('juliet', 'GPE'): 1, ('an hour', 'TIME'): 1, ('night after night', 'TIME'): 1, ('the bird bird bird bird', 'ORG'): 1, ('aah', 'PERSON'): 1, ('pa pa pa pa pa pa pa pa pa pa pa pa pa pa pa pa pa pa pa pa pa pa pa pa pa pa pa pa', 'PERSON'): 1, ('jim', 'PERSON'): 1, ('month', 'DATE'): 1, ('fourteen dollars', 'MONEY'): 1, ('twenty seven cents', 'MONEY'): 1, ('two big feet', 'QUANTITY'): 1, ('17', 'CARDINAL'): 1, ('three nights', 'TIME'): 1, ('jamaica', 'GPE'): 1, ('hurtin', 'PERSON'): 1, ('sham miscellaneous', 'ORG'): 1, ('quatro matty', 'PERSON'): 1, ('jaw wooly', 'ORG'): 1, ('wooly', 'ORG'): 1, ('matty lets', 'ORG'): 1, ('matty', 'PERSON'): 1, ('next week', 'DATE'): 1, ('the month of may', 'DATE'): 1, ('the month', 'DATE'): 1, ('late last night', 'TIME'): 1, ('rang your bell', 'ORG'): 1, ('cara mia', 'PERSON'): 1, ('mia mine cara mia mine cara mia mine cara', 'ORG'): 1, ('mia mine cara mia mine cara mia mine cara mia mine cara mia mine cara mia mine', 'ORG'): 1, ('hours', 'TIME'): 1, ('jordan', 'GPE'): 1, ('coagulatin', 'ORG'): 1, ('four days', 'DATE'): 1, ('adam', 'PERSON'): 1, ('shirley shirley', 'PERSON'): 1, ('mer ley', 'FAC'): 1, ('lincoln lincoln lincoln', 'ORG'): 1, ('bin coln', 'ORG'): 1, ('min coln lincoln', 'ORG'): 1, ('mar mold', 'PERSON'): 1, ('bob bob', 'PERSON'): 1, ('tony tony', 'PERSON'): 1, ('nick nick nick', 'PERSON'): 1, ('mick nick', 'PERSON'): 1, ('two and two', 'DATE'): 1, ('john hush hush', 'PERSON'): 1, ('siamese', 'NORP'): 1, ('ya ya', 'PERSON'): 1, ('many a year', 'DATE'): 1, ('east coast', 'LOC'): 1, ('midwest', 'LOC'): 1, ('the west coast', 'LOC'): 1, ('hawaii island', 'GPE'): 1, ('joe south', 'PERSON'): 1, ('kay w', 'ORG'): 1, ('douglas quintet', 'PERSON'): 1, ('1956', 'DATE'): 1, ('india', 'GPE'): 1, ('laurie', 'PERSON'): 1, ('a year ago', 'DATE'): 1, ('18 years', 'DATE'): 1, ('norman petty', 'PERSON'): 1, ('16', 'CARDINAL'): 1, ('65', 'CARDINAL'): 1, ('100', 'CARDINAL'): 1, ('all one day', 'DATE'): 1, ('cry cmon', 'PERSON'): 1, ('s ailin', 'PERSON'): 1, ('lovin honey', 'PERSON'): 1, ('the dark days', 'DATE'): 1, ('the sunshine bouquet sunny', 'ORG'): 1, ('the sham owoooooooo', 'ORG'): 1, ('bah da', 'PERSON'): 1, ('minutes', 'TIME'): 1, ('cool jerk cool jerk cool jerk cool jerk', 'PERSON'): 1, ('august', 'DATE'): 1, ('a winter s day', 'DATE'): 1, ('december', 'DATE'): 1, ('hazel', 'PERSON'): 1, ('bombay', 'GPE'): 1, ('don juan', 'PERSON'): 1, ('five', 'DATE'): 1, ('john stone', 'PERSON'): 1, ('the john b i feel', 'ORG'): 1, ('too few years', 'DATE'): 1, ('daily', 'DATE'): 1, ('week', 'DATE'): 1, ('the other night', 'TIME'): 1, ('john henry', 'PERSON'): 1, ('thirty two', 'DATE'): 1, ('sherry bobby', 'PERSON'): 1, ('a year', 'DATE'): 1, ('kentucky blue bird', 'ORG'): 1, ('michael tell him', 'PERSON'): 1, ('five feet', 'QUANTITY'): 1, ('barbara ann barbara ann barbara ann', 'PERSON'): 1, ('peggy sue', 'PERSON'): 1, ('peggy lou', 'PERSON'): 1, ('betty lou', 'PERSON'): 1, ('ann barbara ann barbara ann barbara ann barbara ann barbara ann barbara ann barbara ann barbara ann', 'PERSON'): 1, ('guantanamera guajira guantanamera guantanamera guajira guantanamera yo', 'ORG'): 1, ('de morir', 'PERSON'): 1, ('versos del alma guantanamera guajira guantanamera guantanamera guajira guantanamera mi verso es de un verde claro', 'PERSON'): 1, ('el monte', 'GPE'): 1, ('el arroyo de la sierra me', 'ORG'): 1, ('complace más que el mar guantanamera guajira guantanamera guantanamera guajira guantanamera', 'PERSON'): 1, ('bony maronie mash', 'ORG'): 1, ('our years', 'DATE'): 1, ('the weary day', 'DATE'): 1, ('talkin sweet kinda', 'ORG'): 1, ('the end of the day', 'DATE'): 1, ('the early early mornin', 'DATE'): 1, ('the early early nights', 'DATE'): 1, ('hundred', 'CARDINAL'): 1, ('gary lewis', 'PERSON'): 1, ('1966', 'CARDINAL'): 1, ('five thirty', 'TIME'): 1, ('those schoolgirl days', 'DATE'): 1, ('a thousand feet', 'QUANTITY'): 1, ('the third of june', 'DATE'): 1, ('balin hay', 'PERSON'): 1, ('choctaw ridge', 'ORG'): 1, ('five more acres', 'QUANTITY'): 1, ('joe macallisters', 'PERSON'): 1, ('tom', 'PERSON'): 1, ('billie joe', 'PERSON'): 1, ('last sunday', 'DATE'): 1, ('all morning', 'TIME'): 1, ('becky thompson', 'PERSON'): 1, ('tupelo', 'GPE'): 1, ('last spring', 'DATE'): 1, ('lotta', 'GPE'): 1, ('dave', 'PERSON'): 1, ('mustang sally', 'PERSON'): 1, ('la la sha la la sha la la sha la la sha la la sha la la', 'FAC'): 1, ('a field day', 'DATE'): 1, ('da da da da da da', 'PERSON'): 1, ('da sha', 'PERSON'): 1, ('about three', 'CARDINAL'): 1, ('each evening', 'TIME'): 1, ('nearer and nearer', 'CARDINAL'): 1, ('the hour', 'TIME'): 1, ('no day', 'DATE'): 1, ('ten miles', 'QUANTITY'): 1, ('the score fifteen cents', 'MONEY'): 1, ('western union', 'ORG'): 1, ('wedsday', 'DATE'): 1, ('the five day', 'DATE'): 1, ('sixty seconds', 'TIME'): 1, ('a hard day', 'DATE'): 1, ('john barleycorn nicotine', 'PERSON'): 1, ('galileo', 'CARDINAL'): 1, ('la la la la la sha', 'FAC'): 1, ('weekend', 'DATE'): 1, ('ho', 'PERSON'): 1, ('caterpillar', 'ORG'): 1, ('bernadette', 'PERSON'): 1, ('the turn of the century', 'DATE'): 1, ('von richthofen', 'PERSON'): 1, ('the midnight moonlight hour', 'TIME'): 1, ('everyday a half hour', 'TIME'): 1, ('a half hour', 'TIME'): 1, ('7a', 'CARDINAL'): 1, ('don', 'PERSON'): 1, ('daytime', 'TIME'): 1, ('nine to five', 'CARDINAL'): 1, ('kinda smart', 'PERSON'): 1, ('all christmas eve two years ago', 'DATE'): 1, ('the middle of the day', 'DATE'): 1, ('the early spring', 'DATE'): 1, ('the bay wastin time', 'LOC'): 1, ('frisco bay', 'LOC'): 1, ('two thousand miles', 'QUANTITY'): 1, ('oooo', 'GPE'): 1, ('any minute', 'TIME'): 1, ('10', 'CARDINAL'): 1, ('2', 'CARDINAL'): 1, ('joe dimaggio', 'PERSON'): 1, ('joltin joe', 'PERSON'): 1, ('texas', 'GPE'): 1, ('one afternoon', 'TIME'): 1, ('bobby taylor', 'PERSON'): 1, ('baker', 'PERSON'): 1, ('ya feelin hon', 'PERSON'): 1, ('minneapolis', 'GPE'): 1, ('the winter', 'DATE'): 1, ('aaaaah', 'ORG'): 1, ('mornings', 'TIME'): 1, ('the day of the years', 'DATE'): 1, ('american', 'NORP'): 1, ('the sunshine a half a dozen', 'DATE'): 1, ('just tonight', 'TIME'): 1, ('new day', 'DATE'): 1, ('yummy yummy sweet thing para pararara', 'PERSON'): 1, ('just a few moments', 'TIME'): 1, ('one two', 'CARDINAL'): 1, ('jumpin jack', 'PERSON'): 1, ('nooo', 'ORG'): 1, ('chinese', 'NORP'): 1, ('nooo', 'GPE'): 1, ('a little early one', 'DATE'): 1, ('next morning', 'TIME'): 1, ('next sunday', 'DATE'): 1, ('congress', 'ORG'): 1, ('one more mile', 'QUANTITY'): 1, ('ages', 'DATE'): 1, ('george awakening', 'PERSON'): 1, ('3x', 'CARDINAL'): 1, ('sergio', 'PERSON'): 1, ('john lennon paul mccartney day', 'PERSON'): 1, ('smellin', 'GPE'): 1, ('ridge', 'PERSON'): 1, ('indian lake', 'LOC'): 1, ('tommy boyce', 'PERSON'): 1, ('la la la la la la sha la la la la la la', 'FAC'): 1, ('mao', 'PERSON'): 1, ('the lonely hours of the night', 'TIME'): 1, ('lorda lorda lorda', 'ORG'): 1, ('shorty', 'PERSON'): 1, ('presidin today', 'PERSON'): 1, ('ninety days', 'DATE'): 1, ('boogaloo', 'PERSON'): 1, ('thirty', 'CARDINAL'): 1, ('brazil', 'GPE'): 1, ('more than ten', 'CARDINAL'): 1, ('hours and hours', 'TIME'): 1, ('jerry', 'PERSON'): 1, ('divorcee', 'GPE'): 1, ('hoo crystal blue persuasion', 'PRODUCT'): 1, ('hairy noon', 'PERSON'): 1, ('nighty night night', 'TIME'): 1, ('the buzzin bees', 'ORG'): 1, ('shaggy ratsy', 'PERSON'): 1, ('one minute', 'TIME'): 1, ('only two', 'CARDINAL'): 1, ('jean la la', 'PRODUCT'): 1, ('pan jojo', 'PERSON'): 1, ('arizona', 'GPE'): 1, ('jo sweet', 'PERSON'): 1, ('loretta martin', 'PERSON'): 1, ('the year 4545', 'DATE'): 1, ('the year 5555', 'DATE'): 1, ('the year 6565', 'DATE'): 1, ('the year 7510', 'DATE'): 1, ('the judgement day', 'DATE'): 1, ('the year 8510', 'DATE'): 1, ('the year 9595', 'DATE'): 1, ('ten thousand years', 'DATE'): 1, ('billion', 'CARDINAL'): 1, ('mid july', 'DATE'): 1, ('lovin', 'PERSON'): 1, ('only half', 'CARDINAL'): 1, ('every days', 'DATE'): 1, ('atlantic', 'LOC'): 1, ('the east africa', 'LOC'): 1, ('egyptian', 'NORP'): 1, ('atlantian', 'NORP'): 1, ('siren screamin', 'PERSON'): 1, ('hawaii', 'GPE'): 1, ('five o', 'TIME'): 1, ('21', 'DATE'): 1, ('galveston galveston', 'PERSON'): 1, ('galveston', 'GPE'): 1, ('saturday night', 'TIME'): 1, ('james browns', 'PERSON'): 1, ('twenty five miles', 'QUANTITY'): 1, ('three days', 'DATE'): 1, ('two lonely nights', 'DATE'): 1, ('ten more miles', 'QUANTITY'): 1, ('nine eight', 'DATE'): 1, ('five more miles', 'QUANTITY'): 1, ('wanna mmm mmm mmm', 'PERSON'): 1, ('asian', 'NORP'): 1, ('la da da da da da da da la da da da da da da dee la da da da da da la da da da da da', 'PERSON'): 1, ('our eight', 'CARDINAL'): 1, ('tracy day', 'DATE'): 1, ('every minute', 'TIME'): 1, ('every hour', 'TIME'): 1, ('atlanta', 'GPE'): 1, ('gulf', 'LOC'): 1, ('frisco', 'GPE'): 1, ('texican', 'NORP'): 1, ('the weekend', 'DATE'): 1, ('last week', 'DATE'): 1})\n",
      "1960 label counts: Counter({'DATE': 724, 'PERSON': 618, 'CARDINAL': 579, 'TIME': 481, 'GPE': 256, 'ORG': 163, 'NORP': 97, 'ORDINAL': 87, 'FAC': 75, 'LOC': 45, 'QUANTITY': 43, 'PRODUCT': 18, 'MONEY': 12, 'WORK_OF_ART': 8, 'EVENT': 1})\n",
      "1960 text counts: Counter({'one': 161, 'tonight': 122, 'two': 111, 'today': 90, 'first': 52, 'night': 51, 'tomorrow': 49, 'the day': 39, 'summer': 31, 'the night': 29, 'morning': 27, 'new orleans': 24, 'sunday': 24, 'ooma mow mow': 24, 'monday': 23, 'four': 22, 'yesterday': 21, 'mans': 21, 'every night': 20, 'three': 20, 'last night': 20, 'feelin': 20, 'california': 19, 'all night': 18, 'some day': 17, 'bristol': 17, 'days': 17, 'mony mony': 17, 'five': 16, 'michael': 15, 'duke duke': 15, 'playboy': 15, 'the morning': 15, 'nova': 15, 'thousand': 15, 'a million': 14, 'georgia': 14, 'half': 14, 'one day': 13, 'la la': 13, 'earl duke': 13, 'every day': 13, 'la la la la la': 13, 'six': 12, 'the days': 12, 'friday': 12, 'surf city': 12, 'each night': 11, 'all day': 11, 'whoo': 11, 'only one': 11, 'overnight': 11, 'san jose': 11, 'nine': 10, 'these days': 10, 'jesus': 10, 'hoo': 10, 'joe': 10, 'jimmy': 10, 'new york city': 10, 'seventh': 10, '634': 10, 'sixteen': 9, 'sally': 9, 'each day': 9, 'mir mir': 9, 'twenty miles': 9, 'wah diddy diddy dum diddy': 9, 'bird bird bird': 9, 'nine teenth': 9, '5789': 9, 'afternoon': 9, 'indian': 8, 'seven': 8, 'a million years': 8, 'the years': 8, 'that day': 8, 'the summer': 8, 'another day': 8, '1 2 3': 8, 'german': 7, 'un': 7, 'earl': 7, 'mary lou': 7, 'la la la la la la la la la la': 7, 'johnny angel': 7, 'aah': 7, 'midnight': 7, 'night night': 7, 'la la la la': 7, 'eighty': 7, 'tuesday': 7, 'buttercup': 7, 'ten': 6, 'this morning': 6, 'kentucky': 6, 'nights': 6, 'early in the morning': 6, 'french': 6, 'wolverton': 6, 'washington': 6, 'a hard days night': 6, 'ooma mow mow ooma mow mow': 6, 'eight days': 6, 'ninety six': 6, 'san francisco': 6, '98 6': 6, 'jean': 6, 'a million miles': 6, 'one night': 5, 'mm': 5, 'jack': 5, 'ma ri': 5, 'spring': 5, 'fallin': 5, 'million': 5, 'every day of the year': 5, 'god': 5, 'mary lou goodbye': 5, 'saturday': 5, 'last summer': 5, 'a minute': 5, 'september': 5, 'norman norman': 5, 'third': 5, 'diane': 5, 'las vegas': 5, 'honalee': 5, 'south street': 5, 'a thousand': 5, 'one fine day': 5, 'martian': 5, 'the hill': 5, 'day': 5, 'second': 5, 'sam': 5, 'bang bang': 5, 'barbara ann': 5, 'a reelin barbara ann': 5, 'germany': 5, 'geese': 5, 'eight': 4, 'twelve': 4, 'thirteen': 4, 'british': 4, 'ga ang': 4, 'dan tucker': 4, 'kinda': 4, 'dontcha': 4, 'ya ya ya ya': 4, 'nah nah nah': 4, 'travelin': 4, 'china': 4, 'just a hundred pounds': 4, '4': 4, 'spanish': 4, 'wednesday': 4, 'thursday': 4, 'last year': 4, 'ramblin': 4, 'sha': 4, 'johnny': 4, '109': 4, 'jump senora': 4, 'a day': 4, 'livin': 4, 'womans': 4, 'ya': 4, 'the hours': 4, 'donna donna': 4, 'donna': 4, 'ronnie ronnie': 4, 'hush hush': 4, 'eighth': 4, 'monday monday': 4, 'sunshine softer': 4, 'years': 4, 'miller': 4, 'ya mony mo': 4, 'mony': 4, 'simon': 4, 'one more hour': 4, 'proud hu': 4, 'early morning': 4, 'mexican': 3, 'fifteen': 3, 'winter': 3, 'kemo': 3, '7': 3, 'number one': 3, 'evening': 3, 'monday morning': 3, 'mexico': 3, 'hoo hoo hoo hoo': 3, 'a quarter': 3, 'juliet': 3, 'moon moon blue moon': 3, 'this night': 3, 'ya ya sittin': 3, 'this minute': 3, 'larry': 3, 'ten feet': 3, 'alamo': 3, 'john': 3, 'flo': 3, 'moscow': 3, 'new york': 3, 'al di la': 3, 'johnny show': 3, 'arab': 3, 'clyde': 3, '8': 3, 'this very day': 3, 'each morning': 3, 'japan': 3, 'safari': 3, 'judy': 3, 'our day': 3, 'da doo ron ron ron da doo ron ron': 3, 'ron da doo ron ron': 3, 'koala': 3, 'chicago': 3, 'satin blue velvet': 3, 'colorado': 3, 'summer days': 3, 'a week': 3, 'hatty': 3, 'fifty cents': 3, 'two hours': 3, 'twelve four': 3, 'the spring': 3, 'mia mine cara mia mine cara': 3, 'jingle': 3, 'charlotte charlotte': 3, 'thirty fourth': 3, 'one hundred': 3, 'hooray': 3, 'the john bs sail': 3, 'the next day': 3, 'ann barbara ann': 3, 'de la': 3, 'a hundred': 3, 'da la': 3, 'the day a day': 3, 'mrs robinson': 3, 'para pararara': 3, 'sha sha': 3, 'rollin rollin': 3, 'atlantis': 3, 'rosemarie rosemarie': 3, 'the best years': 3, 'west texas': 2, 'el paso': 2, 'offa': 2, 'seventeen': 2, 'fifteen miles': 2, 'indians': 2, 'mule skinner': 2, 'johnny preston': 2, '1960': 2, 'the moon': 2, 'this dime': 2, 'this quarter': 2, 'a million a million': 2, 'st bernadette': 2, 'kiddio dontcha': 2, 'bobby': 2, 'every evening': 2, 'nah nah nah nah nah': 2, '5th': 2, 'dreamin dreamin': 2, 'searchin hopin': 2, 'the middle of the': 2, 'wah wah wah': 2, 'about twelve to six': 2, 'smilin': 2, 'alaska': 2, 'berlin': 2, 'hong kong': 2, 'next day': 2, '1961': 2, '3': 2, '1': 2, 'a night': 2, 'bee wah dah': 2, 'halloween': 2, 'yellin': 2, 'larrys': 2, 'louisiana': 2, '45': 2, 'sta': 2, 'ya ya ya': 2, 'clifton': 2, 'sheila': 2, 'norman': 2, 'joey': 2, 'about a mile': 2, 'texarkana': 2, 'dontcha know': 2, 'some sunny day': 2, 'fatima': 2, 'ho ho': 2, 'june': 2, 'australian': 2, 'mac': 2, 'tellin': 2, 'moon': 2, 'muddah': 2, 'tennessee': 2, '12': 2, 'a month ago': 2, '5 10 cents': 2, 'zsa zsa gabor': 2, '1963': 2, 'oooo': 2, 'jupiter': 2, 'the evening': 2, 'earth': 2, 'detroit': 2, 'wanna': 2, 'nearly every single day': 2, 'a moment or an hour': 2, 'screamin': 2, 'satin my little angel': 2, 'this day': 2, 'some day autumn': 2, 'only yesterday': 2, 'late at night': 2, 'a month of nights': 2, 'foolin': 2, 'ian': 2, 'a hundred years old': 2, 'the other day': 2, 'kitty': 2, 'a winters day': 2, 'winters day': 2, 'four thirty': 2, 'only three': 2, 'the bright days': 2, 'every morning': 2, 'a thousand years': 2, 'homeward bound': 2, 'a million dollars': 2, 'barbara ann barbara ann': 2, 'lucy': 2, 'the week': 2, 'taylor': 2, 'james brown': 2, 'thyme': 2, 'alfie': 2, 'la la la la la la': 2, 'knowin': 2, 'the first day': 2, 'houston': 2, 'mrs johnson': 2, 'cynthia jerry': 2, 'la la la la la la la la la': 2, 'bonnie': 2, 'simple simon': 2, 'slip simon': 2, 'yummy yummy': 2, 'nooo': 2, 'three weeks': 2, 'the united nations': 2, 'bobby hart': 2, 'every hour of the day': 2, 'a star weeks': 2, 'thirty days': 2, 'paris': 2, 'the year 2525': 2, 'the year 3535': 2, 'standin': 2, 'gliddy glup': 2, 'nibby': 2, 'la la la lo lo sabba sibby sabba nooby abba nabba le le lo lo tooby ooby walla nooby abba': 2, 'love long ago': 2, 'north east': 2, 'rosemarie': 2, 'every day every day oh happy day': 2, 'teen angel teen angel teen angel': 1, '24 hours': 1, 'greenfields greenfields': 1, 'rosas': 1, 'new mexico': 1, 'el': 1, 'a dozen': 1, 'forfelina': 1, 'motah scootah': 1, 'hipsville': 1, 's just half': 1, 'fourteen': 1, '1941': 1, 'germans': 1, 'six long days': 1, 'the seventh day': 1, 'ten hours': 1, 'isabella': 1, 'fourteen ninety two': 1, 'the night another night': 1, 'marie osmond': 1, 'charlie': 1, 'jack fautheree': 1, 'ronald e hontz': 1, 'just today': 1, 'las manos': 1, 'la cara': 1, 'llevo': 1, 'el cielo infinito': 1, 'mas alto que el': 1, 'de mi una': 1, 'musica': 1, 'tocada': 1, 'para mi': 1, 'ia': 1, 'ma ri a': 1, 'number three': 1, 'laura': 1, 'a thousand dollar': 1, 'laura prays': 1, 'the lovely day': 1, 'chicks kicks': 1, 'our days': 1, 'honey dontcha know': 1, 'the whole day': 1, 'nah nah': 1, 'jack horner': 1, '1st': 1, '2nd': 1, '3rd': 1, '4th': 1, '6th': 1, '7th': 1, 'whooa': 1, 'dreamin im always': 1, '25': 1, 'sandy sandy': 1, 'all last night': 1, 'cry cry cry': 1, 'ya ya baby': 1, 'berry chuck': 1, 'mamas cookin chicken': 1, 'fallin fallin': 1, 'at least one': 1, 'a hundred pounds': 1, 'rama': 1, 'ding dong': 1, 'the year': 1, 'the flood many days': 1, 'jim dandy': 1, 'moon moon': 1, 'a thousand miles': 1, 'one sunny day': 1, 'last saturday': 1, 'one early morning': 1, 'la la la la la la la la la la la la la la la la la la la la': 1, 'angel lover': 1, 'two feet': 1, 'wooo whooo': 1, 'whoo whoo whoo': 1, 'woooo': 1, 'woooooo whoo whoo': 1, 'the white house': 1, 'monday tuesday': 1, 'dime': 1, 'mama': 1, 'billy joe': 1, 'la la la la la la la la la la la la la la la la la la la la la la la': 1, 'love moon': 1, 'big john big john evry mornin': 1, 'he stood six foot': 1, 'big john somebody': 1, 'big john big bad john': 1, 'twenty': 1, 'big john': 1, 'john big bad john big bad john': 1, 'bobby rydell': 1, 'bernie lowe kal mann': 1, 'dave appell': 1, 'rubber ball': 1, 'yeaaah': 1, 'yeaaaah': 1, 'almost twenty years': 1, 'havana': 1, 'castro': 1, 'about a hundred years': 1, 'postman mashed potato wait': 1, 'the big day': 1, 'johnny angel johnny angel johnny angel': 1, 'johnny angel johnny angel johnny angel johnny angel': 1, 'johnny angel johnny angel': 1, 'janie': 1, 'hoo hoo hoo hoo hoo du ooo hoo uke': 1, 'hoo hoo ooo uke du hoo hoo uke': 1, 'the moon clear': 1, 'norman bill': 1, 'huggin lovey': 1, 'dovin norman': 1, 'betty sue': 1, 'aah aaaaah': 1, 'another night': 1, 'la la la la la la la sha la la la la la la la sha la la la la la la la sha la la la la': 1, 'a moonlit night': 1, 'haciendas': 1, 'la la la la la la la la la la la la la la la la la la la la la la la la la la': 1, 'la la la la la la la la la la la la la la la la la la la la la la la la': 1, 'la la la la la la la la la la la la la la la la la la la la la la la la la la la la la la la la la la la la la la la la la la la la la la la la la la la la la': 1, 'last day': 1, 'about a quarter': 1, 'dah': 1, 'dj': 1, 'jones hammond': 1, 'm3': 1, 'al jackson jr drums': 1, 'johnny care': 1, 'johnny johnny johnny johnny': 1, 'nine years old': 1, 'moon river': 1, 'some day old': 1, 'about midnight': 1, 'apricot pomegranate bowl': 1, 'nile': 1, 'johnny crawford': 1, '1962': 1, 'that day i first': 1, 'cinderella': 1, 'more than 7': 1, 'john lawrence': 1, 'mule': 1, '43': 1, '13': 1, '38': 1, 'kennedy': 1, 'jfk': 1, 'john big john big john big john': 1, 'ya ya ya ya i': 1, 'jump jump senora': 1, 'las vegas one': 1, 'las vegas matilda': 1, 'miami': 1, '½': 1, 'james dean': 1, 'a penny': 1, 'about two': 1, 'five foot': 1, 'that night': 1, 'huntington': 1, 'this year': 1, 'peru': 1, 'hairdo surfin': 1, 'del mar ventura county line': 1, 'santa cruz': 1, 'manhattan': 1, 'pacific palisades': 1, 'la jolla': 1, 'waimea bay everybodys gone surfin surfin': 1, 'satin': 1, 'paula': 1, 'kiddin': 1, '幸せは雲の上に 幸せは空の上に 上を向いて歩こう': 1, 'jackie': 1, 'sail jackie': 1, 'one grey night': 1, 'a hundred thousand': 1, 'mock bird mockinbird': 1, 'five pound': 1, '30': 1, 'ford': 1, 'wagon': 1, 'johnny s': 1, 'johnny just': 1, 'west street east street': 1, 'north avenue': 1, 'cry cry baby cry': 1, 'quarter': 1, 'ron da doo ron ron somebody': 1, 'bill da doo ron ron ron da doo ron ron': 1, 'ron da doo ron ron someday': 1, 'the magic night': 1, 'camp granada': 1, 'joe spivey': 1, 'granada': 1, 'oh one night': 1, 'san francisco bay': 1, 'jes sittin catchin': 1, 'kansas': 1, 'ten thousand': 1, 'cole': 1, 'george david weiss': 1, 'joe sherman': 1, 'the hills summer': 1, 'another saturday night': 1, 'frankenstein': 1, 'another weekend': 1, 'number 15': 1, 'each minute': 1, 'teddy': 1, 'yi yi': 1, 'morning noon': 1, 'many years': 1, 'mir': 1, 'abilene abilene prettiest town': 1, 'six feet': 1, 'detroit city': 1, 'all these years': 1, 'oooo wah': 1, 'ooo wah': 1, 'every minute every hour': 1, 'one year': 1, 'this world': 1, 'ohh ohh ohh ohh': 1, 'philadelphia': 1, 'kramer': 1, '1964': 1, 'ray charles singers': 1, 'every winter': 1, 'dawn': 1, 'early one morning': 1, 'late one night': 1, 'late friday night': 1, 'jose': 1, 'la la la la la la la la la la la la': 1, 'one foot': 1, '389': 1, 'a quarter mile': 1, 'just a half': 1, 'the mississippi bridge': 1, 'only six years old': 1, 'satin my little angel is': 1, 'ge': 1, 'cadillac': 1, 'a few days ago': 1, 'pasadena': 1, 'red super stock dodge': 1, 'a summers day': 1, 'summer nights': 1, 'olha que': 1, 'linda mais cheia de graça': 1, 'que passa': 1, 'mar moça': 1, 'seu': 1, 'linda que eu': 1, 'também passa': 1, 'ela soubesse': 1, 'quando ela passa': 1, 'enche de graça': 1, 'two years or': 1, 'cmon': 1, 'bobbys': 1, 'blue navy': 1, 'tokyo': 1, 'a weekend': 1, 'a forty eight hour day': 1, 'honda': 1, 'ten mile': 1, 'datin': 1, 'an hour': 1, 'night after night': 1, 'the bird bird bird bird': 1, 'pa pa pa pa pa pa pa pa pa pa pa pa pa pa pa pa pa pa pa pa pa pa pa pa pa pa pa pa': 1, 'jim': 1, 'month': 1, 'fourteen dollars': 1, 'twenty seven cents': 1, 'two big feet': 1, '17': 1, 'three nights': 1, 'jamaica': 1, 'hurtin': 1, 'sham miscellaneous': 1, 'quatro matty': 1, 'jaw wooly': 1, 'wooly': 1, 'matty lets': 1, 'matty': 1, 'next week': 1, 'the month of may': 1, 'the month': 1, 'late last night': 1, 'rang your bell': 1, 'cara mia': 1, 'mia mine cara mia mine cara mia mine cara': 1, 'mia mine cara mia mine cara mia mine cara mia mine cara mia mine cara mia mine': 1, 'hours': 1, 'jordan': 1, 'coagulatin': 1, 'four days': 1, 'adam': 1, 'shirley shirley': 1, 'mer ley': 1, 'lincoln lincoln lincoln': 1, 'bin coln': 1, 'min coln lincoln': 1, 'mar mold': 1, 'bob bob': 1, 'tony tony': 1, 'nick nick nick': 1, 'mick nick': 1, 'two and two': 1, 'john hush hush': 1, 'siamese': 1, 'ya ya': 1, 'many a year': 1, 'east coast': 1, 'midwest': 1, 'the west coast': 1, 'hawaii island': 1, 'joe south': 1, 'kay w': 1, 'douglas quintet': 1, '1956': 1, 'india': 1, 'laurie': 1, 'a year ago': 1, '18 years': 1, 'norman petty': 1, '16': 1, '65': 1, '100': 1, 'all one day': 1, 'cry cmon': 1, 's ailin': 1, 'lovin honey': 1, 'the dark days': 1, 'the sunshine bouquet sunny': 1, 'the sham owoooooooo': 1, 'bah da': 1, 'minutes': 1, 'cool jerk cool jerk cool jerk cool jerk': 1, 'august': 1, 'a winter s day': 1, 'december': 1, 'hazel': 1, 'bombay': 1, 'don juan': 1, 'john stone': 1, 'the john b i feel': 1, 'too few years': 1, 'daily': 1, 'week': 1, 'the other night': 1, 'john henry': 1, 'thirty two': 1, 'sherry bobby': 1, 'a year': 1, 'kentucky blue bird': 1, 'michael tell him': 1, 'five feet': 1, 'barbara ann barbara ann barbara ann': 1, 'peggy sue': 1, 'peggy lou': 1, 'betty lou': 1, 'ann barbara ann barbara ann barbara ann barbara ann barbara ann barbara ann barbara ann barbara ann': 1, 'guantanamera guajira guantanamera guantanamera guajira guantanamera yo': 1, 'de morir': 1, 'versos del alma guantanamera guajira guantanamera guantanamera guajira guantanamera mi verso es de un verde claro': 1, 'el monte': 1, 'el arroyo de la sierra me': 1, 'complace más que el mar guantanamera guajira guantanamera guantanamera guajira guantanamera': 1, 'bony maronie mash': 1, 'our years': 1, 'the weary day': 1, 'talkin sweet kinda': 1, 'the end of the day': 1, 'the early early mornin': 1, 'the early early nights': 1, 'hundred': 1, 'gary lewis': 1, '1966': 1, 'five thirty': 1, 'those schoolgirl days': 1, 'a thousand feet': 1, 'the third of june': 1, 'balin hay': 1, 'choctaw ridge': 1, 'five more acres': 1, 'joe macallisters': 1, 'tom': 1, 'billie joe': 1, 'last sunday': 1, 'all morning': 1, 'becky thompson': 1, 'tupelo': 1, 'last spring': 1, 'lotta': 1, 'dave': 1, 'mustang sally': 1, 'la la sha la la sha la la sha la la sha la la sha la la': 1, 'a field day': 1, 'da da da da da da': 1, 'da sha': 1, 'about three': 1, 'each evening': 1, 'nearer and nearer': 1, 'the hour': 1, 'no day': 1, 'ten miles': 1, 'the score fifteen cents': 1, 'western union': 1, 'wedsday': 1, 'the five day': 1, 'sixty seconds': 1, 'a hard day': 1, 'john barleycorn nicotine': 1, 'galileo': 1, 'la la la la la sha': 1, 'weekend': 1, 'ho': 1, 'caterpillar': 1, 'bernadette': 1, 'the turn of the century': 1, 'von richthofen': 1, 'the midnight moonlight hour': 1, 'everyday a half hour': 1, 'a half hour': 1, '7a': 1, 'don': 1, 'daytime': 1, 'nine to five': 1, 'kinda smart': 1, 'all christmas eve two years ago': 1, 'the middle of the day': 1, 'the early spring': 1, 'the bay wastin time': 1, 'frisco bay': 1, 'two thousand miles': 1, 'any minute': 1, '10': 1, '2': 1, 'joe dimaggio': 1, 'joltin joe': 1, 'texas': 1, 'one afternoon': 1, 'bobby taylor': 1, 'baker': 1, 'ya feelin hon': 1, 'minneapolis': 1, 'the winter': 1, 'aaaaah': 1, 'mornings': 1, 'the day of the years': 1, 'american': 1, 'the sunshine a half a dozen': 1, 'just tonight': 1, 'new day': 1, 'yummy yummy sweet thing para pararara': 1, 'just a few moments': 1, 'one two': 1, 'jumpin jack': 1, 'chinese': 1, 'a little early one': 1, 'next morning': 1, 'next sunday': 1, 'congress': 1, 'one more mile': 1, 'ages': 1, 'george awakening': 1, '3x': 1, 'sergio': 1, 'john lennon paul mccartney day': 1, 'smellin': 1, 'ridge': 1, 'indian lake': 1, 'tommy boyce': 1, 'la la la la la la sha la la la la la la': 1, 'mao': 1, 'the lonely hours of the night': 1, 'lorda lorda lorda': 1, 'shorty': 1, 'presidin today': 1, 'ninety days': 1, 'boogaloo': 1, 'thirty': 1, 'brazil': 1, 'more than ten': 1, 'hours and hours': 1, 'jerry': 1, 'divorcee': 1, 'hoo crystal blue persuasion': 1, 'hairy noon': 1, 'nighty night night': 1, 'the buzzin bees': 1, 'shaggy ratsy': 1, 'one minute': 1, 'only two': 1, 'jean la la': 1, 'pan jojo': 1, 'arizona': 1, 'jo sweet': 1, 'loretta martin': 1, 'the year 4545': 1, 'the year 5555': 1, 'the year 6565': 1, 'the year 7510': 1, 'the judgement day': 1, 'the year 8510': 1, 'the year 9595': 1, 'ten thousand years': 1, 'billion': 1, 'mid july': 1, 'lovin': 1, 'only half': 1, 'every days': 1, 'atlantic': 1, 'the east africa': 1, 'egyptian': 1, 'atlantian': 1, 'siren screamin': 1, 'hawaii': 1, 'five o': 1, '21': 1, 'galveston galveston': 1, 'galveston': 1, 'saturday night': 1, 'james browns': 1, 'twenty five miles': 1, 'three days': 1, 'two lonely nights': 1, 'ten more miles': 1, 'nine eight': 1, 'five more miles': 1, 'wanna mmm mmm mmm': 1, 'asian': 1, 'la da da da da da da da la da da da da da da dee la da da da da da la da da da da da': 1, 'our eight': 1, 'tracy day': 1, 'every minute': 1, 'every hour': 1, 'atlanta': 1, 'gulf': 1, 'frisco': 1, 'texican': 1, 'the weekend': 1, 'last week': 1})\n"
     ]
    }
   ],
   "source": [
    "# Make this into a loop, repeating for each decade in globals() ?\n",
    "\n",
    "label = Counter()\n",
    "text = Counter()\n",
    "total = Counter()\n",
    "for song in globals()['lyrics_1960']:\n",
    "    label.update([ent.label_ for ent in song.ents])\n",
    "    text.update([ent.text for ent in song.ents])\n",
    "    total.update([(ent.text, ent.label_) for ent in song.ents])\n",
    "print('1960 total counts:', total)\n",
    "print('1960 label counts:', label)\n",
    "print('1960 text counts:', text)\n"
   ]
  },
  {
   "cell_type": "code",
   "execution_count": null,
   "metadata": {},
   "outputs": [],
   "source": [
    "# Find NER model trained to detect GPE, NAMES, ORG\n",
    "\n",
    "# Filter by decade and apply model to every song in the set\n",
    "\n",
    "# Evaluate the most common entities per decade, see change in trends over time"
   ]
  },
  {
   "cell_type": "markdown",
   "metadata": {},
   "source": [
    "# Old code"
   ]
  },
  {
   "cell_type": "code",
   "execution_count": 12,
   "metadata": {
    "tags": []
   },
   "outputs": [],
   "source": [
    "# for value in value_counts.index:\n",
    "#     global_variable_name = f\"df_year_{value}\"\n",
    "    \n",
    "#     # Assuming 'target_column' is the column you want to predict\n",
    "#     X = globals()[global_variable_name].drop('sentiment', axis=1)\n",
    "#     y = globals()[global_variable_name]['sentiment']\n",
    "    \n",
    "#     # Split the data into train and test sets\n",
    "#     X_train, X_test, y_train, y_test = train_test_split(X, y, test_size=0.2, random_state=42)\n",
    "    \n",
    "#     # Create global variables for each split\n",
    "#     train_name = f\"X_train_{value}\"\n",
    "#     test_name = f\"X_test_{value}\"\n",
    "#     y_train_name = f\"y_train_{value}\"\n",
    "#     y_test_name = f\"y_test_{value}\"\n",
    "    \n",
    "#     globals()[train_name] = X_train\n",
    "#     globals()[test_name] = X_test\n",
    "#     globals()[y_train_name] = y_train\n",
    "#     globals()[y_test_name] = y_test\n",
    "    \n",
    "#     # Now you can use X_train_2019, X_test_2019, y_train_2019, y_test_2019, etc. for training and testing your model\n",
    "#     print(f\"For Global DataFrame '{global_variable_name}':\")\n",
    "#     print(f\"Training set '{train_name}' has {len(X_train)} entries. '{y_train_name}' has {len(y_train)}\")\n",
    "#     print(f\"Test set '{test_name}' has {len(X_test)} entries. '{y_test_name}' has {len(y_test)}\")"
   ]
  },
  {
   "cell_type": "markdown",
   "metadata": {},
   "source": [
    "### Create TF-IDF vectorizer"
   ]
  },
  {
   "cell_type": "markdown",
   "metadata": {},
   "source": [
    "For each document in the test split, classify the document using KNN on the document tf-idf vectors with k=5 and cosine similarity. "
   ]
  },
  {
   "cell_type": "markdown",
   "metadata": {},
   "source": [
    "Note: you should only be comparing against the documents in the train split for classification, not those in the test split. Report the performance of your model. Compute micro- and macro-F1."
   ]
  },
  {
   "cell_type": "code",
   "execution_count": 13,
   "metadata": {},
   "outputs": [],
   "source": [
    "X_train, X_test, y_train, y_test = train_test_split(df_sptfy.lyrics, df_sptfy.decade, test_size=0.2, random_state=42)\n",
    "\n",
    "vectorizer = TfidfVectorizer(min_df=5)\n",
    "X_train = vectorizer.fit_transform(X_train)"
   ]
  },
  {
   "cell_type": "code",
   "execution_count": 14,
   "metadata": {},
   "outputs": [
    {
     "ename": "KeyboardInterrupt",
     "evalue": "",
     "output_type": "error",
     "traceback": [
      "\u001b[1;31m---------------------------------------------------------------------------\u001b[0m",
      "\u001b[1;31mKeyboardInterrupt\u001b[0m                         Traceback (most recent call last)",
      "\u001b[1;32mc:\\Users\\maxbe\\Documents\\school\\INFO 498 B\\info498b_lyrics_analysis\\genre_prediction.ipynb Cell 21\u001b[0m line \u001b[0;36m5\n\u001b[0;32m      <a href='vscode-notebook-cell:/c%3A/Users/maxbe/Documents/school/INFO%20498%20B/info498b_lyrics_analysis/genre_prediction.ipynb#X25sZmlsZQ%3D%3D?line=2'>3</a>\u001b[0m knn \u001b[39m=\u001b[39m KNeighborsClassifier(n_neighbors\u001b[39m=\u001b[39mn, metric\u001b[39m=\u001b[39m\u001b[39m'\u001b[39m\u001b[39mcosine\u001b[39m\u001b[39m'\u001b[39m)\n\u001b[0;32m      <a href='vscode-notebook-cell:/c%3A/Users/maxbe/Documents/school/INFO%20498%20B/info498b_lyrics_analysis/genre_prediction.ipynb#X25sZmlsZQ%3D%3D?line=3'>4</a>\u001b[0m knn\u001b[39m.\u001b[39mfit(X_train, y_train)\n\u001b[1;32m----> <a href='vscode-notebook-cell:/c%3A/Users/maxbe/Documents/school/INFO%20498%20B/info498b_lyrics_analysis/genre_prediction.ipynb#X25sZmlsZQ%3D%3D?line=4'>5</a>\u001b[0m y_pred \u001b[39m=\u001b[39m knn\u001b[39m.\u001b[39mpredict(vectorizer\u001b[39m.\u001b[39mtransform(X_test))\n\u001b[0;32m      <a href='vscode-notebook-cell:/c%3A/Users/maxbe/Documents/school/INFO%20498%20B/info498b_lyrics_analysis/genre_prediction.ipynb#X25sZmlsZQ%3D%3D?line=5'>6</a>\u001b[0m results\u001b[39m.\u001b[39mappend((precision_score(y_test, y_pred, average\u001b[39m=\u001b[39m\u001b[39mNone\u001b[39;00m), recall_score(y_test, y_pred, average\u001b[39m=\u001b[39m\u001b[39mNone\u001b[39;00m), f1_score(y_test, y_pred, average\u001b[39m=\u001b[39m\u001b[39m'\u001b[39m\u001b[39mmicro\u001b[39m\u001b[39m'\u001b[39m), f1_score(y_test, y_pred, average\u001b[39m=\u001b[39m\u001b[39m'\u001b[39m\u001b[39mmacro\u001b[39m\u001b[39m'\u001b[39m)))\n",
      "File \u001b[1;32mc:\\Users\\maxbe\\miniconda3\\envs\\info498b\\Lib\\site-packages\\sklearn\\neighbors\\_classification.py:266\u001b[0m, in \u001b[0;36mKNeighborsClassifier.predict\u001b[1;34m(self, X)\u001b[0m\n\u001b[0;32m    263\u001b[0m         \u001b[39mreturn\u001b[39;00m \u001b[39mself\u001b[39m\u001b[39m.\u001b[39mclasses_[np\u001b[39m.\u001b[39margmax(probabilities, axis\u001b[39m=\u001b[39m\u001b[39m1\u001b[39m)]\n\u001b[0;32m    264\u001b[0m     \u001b[39m# In that case, we do not need the distances to perform\u001b[39;00m\n\u001b[0;32m    265\u001b[0m     \u001b[39m# the weighting so we do not compute them.\u001b[39;00m\n\u001b[1;32m--> 266\u001b[0m     neigh_ind \u001b[39m=\u001b[39m \u001b[39mself\u001b[39m\u001b[39m.\u001b[39mkneighbors(X, return_distance\u001b[39m=\u001b[39m\u001b[39mFalse\u001b[39;00m)\n\u001b[0;32m    267\u001b[0m     neigh_dist \u001b[39m=\u001b[39m \u001b[39mNone\u001b[39;00m\n\u001b[0;32m    268\u001b[0m \u001b[39melse\u001b[39;00m:\n",
      "File \u001b[1;32mc:\\Users\\maxbe\\miniconda3\\envs\\info498b\\Lib\\site-packages\\sklearn\\neighbors\\_base.py:859\u001b[0m, in \u001b[0;36mKNeighborsMixin.kneighbors\u001b[1;34m(self, X, n_neighbors, return_distance)\u001b[0m\n\u001b[0;32m    856\u001b[0m     \u001b[39melse\u001b[39;00m:\n\u001b[0;32m    857\u001b[0m         kwds \u001b[39m=\u001b[39m \u001b[39mself\u001b[39m\u001b[39m.\u001b[39meffective_metric_params_\n\u001b[1;32m--> 859\u001b[0m     chunked_results \u001b[39m=\u001b[39m \u001b[39mlist\u001b[39m(\n\u001b[0;32m    860\u001b[0m         pairwise_distances_chunked(\n\u001b[0;32m    861\u001b[0m             X,\n\u001b[0;32m    862\u001b[0m             \u001b[39mself\u001b[39m\u001b[39m.\u001b[39m_fit_X,\n\u001b[0;32m    863\u001b[0m             reduce_func\u001b[39m=\u001b[39mreduce_func,\n\u001b[0;32m    864\u001b[0m             metric\u001b[39m=\u001b[39m\u001b[39mself\u001b[39m\u001b[39m.\u001b[39meffective_metric_,\n\u001b[0;32m    865\u001b[0m             n_jobs\u001b[39m=\u001b[39mn_jobs,\n\u001b[0;32m    866\u001b[0m             \u001b[39m*\u001b[39m\u001b[39m*\u001b[39mkwds,\n\u001b[0;32m    867\u001b[0m         )\n\u001b[0;32m    868\u001b[0m     )\n\u001b[0;32m    870\u001b[0m \u001b[39melif\u001b[39;00m \u001b[39mself\u001b[39m\u001b[39m.\u001b[39m_fit_method \u001b[39min\u001b[39;00m [\u001b[39m\"\u001b[39m\u001b[39mball_tree\u001b[39m\u001b[39m\"\u001b[39m, \u001b[39m\"\u001b[39m\u001b[39mkd_tree\u001b[39m\u001b[39m\"\u001b[39m]:\n\u001b[0;32m    871\u001b[0m     \u001b[39mif\u001b[39;00m issparse(X):\n",
      "File \u001b[1;32mc:\\Users\\maxbe\\miniconda3\\envs\\info498b\\Lib\\site-packages\\sklearn\\metrics\\pairwise.py:2027\u001b[0m, in \u001b[0;36mpairwise_distances_chunked\u001b[1;34m(X, Y, reduce_func, metric, n_jobs, working_memory, **kwds)\u001b[0m\n\u001b[0;32m   2025\u001b[0m \u001b[39mif\u001b[39;00m reduce_func \u001b[39mis\u001b[39;00m \u001b[39mnot\u001b[39;00m \u001b[39mNone\u001b[39;00m:\n\u001b[0;32m   2026\u001b[0m     chunk_size \u001b[39m=\u001b[39m D_chunk\u001b[39m.\u001b[39mshape[\u001b[39m0\u001b[39m]\n\u001b[1;32m-> 2027\u001b[0m     D_chunk \u001b[39m=\u001b[39m reduce_func(D_chunk, sl\u001b[39m.\u001b[39mstart)\n\u001b[0;32m   2028\u001b[0m     _check_chunk_size(D_chunk, chunk_size)\n\u001b[0;32m   2029\u001b[0m \u001b[39myield\u001b[39;00m D_chunk\n",
      "File \u001b[1;32mc:\\Users\\maxbe\\miniconda3\\envs\\info498b\\Lib\\site-packages\\sklearn\\neighbors\\_base.py:717\u001b[0m, in \u001b[0;36mKNeighborsMixin._kneighbors_reduce_func\u001b[1;34m(self, dist, start, n_neighbors, return_distance)\u001b[0m\n\u001b[0;32m    690\u001b[0m \u001b[39m\u001b[39m\u001b[39m\"\"\"Reduce a chunk of distances to the nearest neighbors.\u001b[39;00m\n\u001b[0;32m    691\u001b[0m \n\u001b[0;32m    692\u001b[0m \u001b[39mCallback to :func:`sklearn.metrics.pairwise.pairwise_distances_chunked`\u001b[39;00m\n\u001b[1;32m   (...)\u001b[0m\n\u001b[0;32m    714\u001b[0m \u001b[39m    The neighbors indices.\u001b[39;00m\n\u001b[0;32m    715\u001b[0m \u001b[39m\"\"\"\u001b[39;00m\n\u001b[0;32m    716\u001b[0m sample_range \u001b[39m=\u001b[39m np\u001b[39m.\u001b[39marange(dist\u001b[39m.\u001b[39mshape[\u001b[39m0\u001b[39m])[:, \u001b[39mNone\u001b[39;00m]\n\u001b[1;32m--> 717\u001b[0m neigh_ind \u001b[39m=\u001b[39m np\u001b[39m.\u001b[39margpartition(dist, n_neighbors \u001b[39m-\u001b[39m \u001b[39m1\u001b[39m, axis\u001b[39m=\u001b[39m\u001b[39m1\u001b[39m)\n\u001b[0;32m    718\u001b[0m neigh_ind \u001b[39m=\u001b[39m neigh_ind[:, :n_neighbors]\n\u001b[0;32m    719\u001b[0m \u001b[39m# argpartition doesn't guarantee sorted order, so we sort again\u001b[39;00m\n",
      "File \u001b[1;32mc:\\Users\\maxbe\\miniconda3\\envs\\info498b\\Lib\\site-packages\\numpy\\core\\fromnumeric.py:858\u001b[0m, in \u001b[0;36margpartition\u001b[1;34m(a, kth, axis, kind, order)\u001b[0m\n\u001b[0;32m    779\u001b[0m \u001b[39m@array_function_dispatch\u001b[39m(_argpartition_dispatcher)\n\u001b[0;32m    780\u001b[0m \u001b[39mdef\u001b[39;00m \u001b[39margpartition\u001b[39m(a, kth, axis\u001b[39m=\u001b[39m\u001b[39m-\u001b[39m\u001b[39m1\u001b[39m, kind\u001b[39m=\u001b[39m\u001b[39m'\u001b[39m\u001b[39mintroselect\u001b[39m\u001b[39m'\u001b[39m, order\u001b[39m=\u001b[39m\u001b[39mNone\u001b[39;00m):\n\u001b[0;32m    781\u001b[0m \u001b[39m    \u001b[39m\u001b[39m\"\"\"\u001b[39;00m\n\u001b[0;32m    782\u001b[0m \u001b[39m    Perform an indirect partition along the given axis using the\u001b[39;00m\n\u001b[0;32m    783\u001b[0m \u001b[39m    algorithm specified by the `kind` keyword. It returns an array of\u001b[39;00m\n\u001b[1;32m   (...)\u001b[0m\n\u001b[0;32m    856\u001b[0m \n\u001b[0;32m    857\u001b[0m \u001b[39m    \"\"\"\u001b[39;00m\n\u001b[1;32m--> 858\u001b[0m     \u001b[39mreturn\u001b[39;00m _wrapfunc(a, \u001b[39m'\u001b[39m\u001b[39margpartition\u001b[39m\u001b[39m'\u001b[39m, kth, axis\u001b[39m=\u001b[39maxis, kind\u001b[39m=\u001b[39mkind, order\u001b[39m=\u001b[39morder)\n",
      "File \u001b[1;32mc:\\Users\\maxbe\\miniconda3\\envs\\info498b\\Lib\\site-packages\\numpy\\core\\fromnumeric.py:59\u001b[0m, in \u001b[0;36m_wrapfunc\u001b[1;34m(obj, method, *args, **kwds)\u001b[0m\n\u001b[0;32m     56\u001b[0m     \u001b[39mreturn\u001b[39;00m _wrapit(obj, method, \u001b[39m*\u001b[39margs, \u001b[39m*\u001b[39m\u001b[39m*\u001b[39mkwds)\n\u001b[0;32m     58\u001b[0m \u001b[39mtry\u001b[39;00m:\n\u001b[1;32m---> 59\u001b[0m     \u001b[39mreturn\u001b[39;00m bound(\u001b[39m*\u001b[39margs, \u001b[39m*\u001b[39m\u001b[39m*\u001b[39mkwds)\n\u001b[0;32m     60\u001b[0m \u001b[39mexcept\u001b[39;00m \u001b[39mTypeError\u001b[39;00m:\n\u001b[0;32m     61\u001b[0m     \u001b[39m# A TypeError occurs if the object does have such a method in its\u001b[39;00m\n\u001b[0;32m     62\u001b[0m     \u001b[39m# class, but its signature is not identical to that of NumPy's. This\u001b[39;00m\n\u001b[1;32m   (...)\u001b[0m\n\u001b[0;32m     66\u001b[0m     \u001b[39m# Call _wrapit from within the except clause to ensure a potential\u001b[39;00m\n\u001b[0;32m     67\u001b[0m     \u001b[39m# exception has a traceback chain.\u001b[39;00m\n\u001b[0;32m     68\u001b[0m     \u001b[39mreturn\u001b[39;00m _wrapit(obj, method, \u001b[39m*\u001b[39margs, \u001b[39m*\u001b[39m\u001b[39m*\u001b[39mkwds)\n",
      "\u001b[1;31mKeyboardInterrupt\u001b[0m: "
     ]
    }
   ],
   "source": [
    "results = []\n",
    "for n in range(1, 10):\n",
    "    knn = KNeighborsClassifier(n_neighbors=n, metric='cosine')\n",
    "    knn.fit(X_train, y_train)\n",
    "    y_pred = knn.predict(vectorizer.transform(X_test))\n",
    "    results.append((precision_score(y_test, y_pred, average=None), recall_score(y_test, y_pred, average=None), f1_score(y_test, y_pred, average='micro'), f1_score(y_test, y_pred, average='macro')))"
   ]
  },
  {
   "cell_type": "code",
   "execution_count": null,
   "metadata": {},
   "outputs": [
    {
     "name": "stdout",
     "output_type": "stream",
     "text": [
      "Neighbor Count: 1\n",
      "Precision:\t [0.30188679 0.23636364 0.22702703 0.25833333 0.25229358 0.22727273]\n",
      "Recall:\t [0.23076923 0.1902439  0.24561404 0.35227273 0.2972973  0.19480519]\n",
      "Micro:\t 0.25113739763421294\n",
      "Macro:\t 0.24819437248785395\n",
      "\n",
      "Neighbor Count: 2\n",
      "Precision:\t [0.25407166 0.22026432 0.24186047 0.22274882 0.28448276 0.39130435]\n",
      "Recall:\t [0.375      0.24390244 0.30409357 0.26704545 0.17837838 0.05844156]\n",
      "Micro:\t 0.24476797088262056\n",
      "Macro:\t 0.2279470382909987\n",
      "\n",
      "Neighbor Count: 3\n",
      "Precision:\t [0.27844311 0.21524664 0.27807487 0.24431818 0.34188034 0.33870968]\n",
      "Recall:\t [0.44711538 0.23414634 0.30409357 0.24431818 0.21621622 0.13636364]\n",
      "Micro:\t 0.27024567788899\n",
      "Macro:\t 0.2602730964942082\n",
      "\n",
      "Neighbor Count: 4\n",
      "Precision:\t [0.2755102  0.21359223 0.25465839 0.23589744 0.28323699 0.28571429]\n",
      "Recall:\t [0.38942308 0.21463415 0.23976608 0.26136364 0.26486486 0.12987013]\n",
      "Micro:\t 0.2556869881710646\n",
      "Macro:\t 0.24735031988064146\n",
      "\n",
      "Neighbor Count: 5\n",
      "Precision:\t [0.34375    0.23076923 0.24102564 0.23853211 0.29       0.325     ]\n",
      "Recall:\t [0.37019231 0.20487805 0.2748538  0.29545455 0.31351351 0.16883117]\n",
      "Micro:\t 0.2747952684258417\n",
      "Macro:\t 0.26964111008735614\n",
      "\n",
      "Neighbor Count: 6\n",
      "Precision:\t [0.34       0.23762376 0.24056604 0.23628692 0.31521739 0.40625   ]\n",
      "Recall:\t [0.32692308 0.23414634 0.29824561 0.31818182 0.31351351 0.16883117]\n",
      "Micro:\t 0.27934485896269334\n",
      "Macro:\t 0.27660096691095376\n",
      "\n",
      "Neighbor Count: 7\n",
      "Precision:\t [0.3440367  0.24154589 0.23414634 0.22173913 0.30687831 0.44      ]\n",
      "Recall:\t [0.36057692 0.24390244 0.28070175 0.28977273 0.31351351 0.14285714]\n",
      "Micro:\t 0.27661510464058237\n",
      "Macro:\t 0.27120475016755613\n",
      "\n",
      "Neighbor Count: 8\n",
      "Precision:\t [0.34883721 0.24137931 0.24747475 0.20258621 0.31443299 0.42105263]\n",
      "Recall:\t [0.36057692 0.23902439 0.28654971 0.26704545 0.32972973 0.15584416]\n",
      "Micro:\t 0.2775250227479527\n",
      "Macro:\t 0.27336145133420253\n",
      "\n",
      "Neighbor Count: 9\n",
      "Precision:\t [0.33663366 0.22916667 0.22164948 0.21912351 0.32019704 0.40350877]\n",
      "Recall:\t [0.32692308 0.21463415 0.25146199 0.3125     0.35135135 0.14935065]\n",
      "Micro:\t 0.27115559599636035\n",
      "Macro:\t 0.26660974837095436\n",
      "\n"
     ]
    }
   ],
   "source": [
    "for i in range(len(results)):\n",
    "    print('Neighbor Count:', i + 1)\n",
    "    print('Precision:\\t', results[i][0])\n",
    "    print('Recall:\\t', results[i][1])\n",
    "    print('Micro:\\t', results[i][2])\n",
    "    print('Macro:\\t', results[i][3])\n",
    "    print()"
   ]
  },
  {
   "cell_type": "markdown",
   "metadata": {},
   "source": [
    "Report the per-class F1-scores for the test split"
   ]
  },
  {
   "cell_type": "code",
   "execution_count": null,
   "metadata": {},
   "outputs": [
    {
     "name": "stdout",
     "output_type": "stream",
     "text": [
      "F1 score per class: [0.14925373 0.82882883]\n",
      "              precision    recall  f1-score   support\n",
      "\n",
      "           0       0.33      0.10      0.15        52\n",
      "           1       0.75      0.93      0.83       148\n",
      "\n",
      "    accuracy                           0.71       200\n",
      "   macro avg       0.54      0.51      0.49       200\n",
      "weighted avg       0.64      0.71      0.65       200\n",
      "\n"
     ]
    }
   ],
   "source": [
    "print('F1 score per class:', format(f1_score(y_test, y_pred, average=None)))\n",
    "from sklearn.metrics import classification_report\n",
    "print(classification_report(y_test_1960, y_pred))"
   ]
  },
  {
   "cell_type": "markdown",
   "metadata": {},
   "source": [
    "Create confusion matrix"
   ]
  },
  {
   "cell_type": "code",
   "execution_count": null,
   "metadata": {
    "tags": []
   },
   "outputs": [
    {
     "name": "stdout",
     "output_type": "stream",
     "text": [
      "[[  5  47]\n",
      " [ 10 138]]\n"
     ]
    },
    {
     "data": {
      "image/png": "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",
      "text/plain": [
       "<Figure size 640x480 with 2 Axes>"
      ]
     },
     "metadata": {},
     "output_type": "display_data"
    }
   ],
   "source": [
    "import matplotlib.pyplot as plt\n",
    "import seaborn as sns\n",
    "import numpy as np\n",
    "\n",
    "# Compute confusion matrix\n",
    "conf_matrix = confusion_matrix(y_test_1960, y_pred, labels=[0,1])\n",
    "\n",
    "# Display confusion matrix\n",
    "print(conf_matrix)\n",
    "\n",
    "# Display confusion matrix with labels\n",
    "sns.heatmap(conf_matrix, annot=True, fmt='d', cmap='Blues', xticklabels=[0, 1], yticklabels=[0, 1])\n",
    "plt.xlabel('Predicted')\n",
    "plt.ylabel('Actual')\n",
    "plt.title('Confusion Matrix')\n",
    "plt.show()"
   ]
<<<<<<< HEAD
=======
  },
  {
   "cell_type": "code",
   "execution_count": 21,
   "metadata": {
    "tags": []
   },
   "outputs": [],
   "source": [
    "#Find NER model trained to detect GPE, NAMES, ORG\n",
    "\n",
    "#Filter by decade and apply model to every song in the set\n",
    "\n",
    "#Evaluate the most common entities per decade, see change in trends over time"
   ]
  },
  {
   "cell_type": "code",
   "execution_count": null,
   "metadata": {},
   "outputs": [],
   "source": []
>>>>>>> f0e7684546fa90c628ca270d6e9359b963697b89
  }
 ],
 "metadata": {
  "kernelspec": {
   "display_name": "Python 3 (ipykernel)",
   "language": "python",
   "name": "python3"
  },
  "language_info": {
   "codemirror_mode": {
    "name": "ipython",
    "version": 3
   },
   "file_extension": ".py",
   "mimetype": "text/x-python",
   "name": "python",
   "nbconvert_exporter": "python",
   "pygments_lexer": "ipython3",
   "version": "3.11.5"
  }
 },
 "nbformat": 4,
 "nbformat_minor": 4
}

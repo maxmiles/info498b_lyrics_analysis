{
 "cells": [
  {
   "cell_type": "markdown",
   "id": "19717764-612d-4e35-85d3-7b700b4f38ed",
   "metadata": {
    "tags": []
   },
   "source": [
    "# INFO 498 B | Spotify Lyric Analysis"
   ]
  },
  {
   "cell_type": "markdown",
   "id": "e1ee6bce-a867-4bb6-895b-716ada36a428",
   "metadata": {},
   "source": [
    "### Group 6 | Max Bennett, Sydney Castello, Justin Tham, Ian Wang | 12th December 2023"
   ]
  },
  {
   "cell_type": "markdown",
   "id": "be827476-75c7-49ef-b43e-6a2beb13efad",
   "metadata": {},
   "source": [
    "---"
   ]
  },
  {
   "cell_type": "markdown",
   "id": "65bae1e7-fab7-4669-8cc3-d54827b21e97",
   "metadata": {},
   "source": [
    "### Introduction and Motivation"
   ]
  },
  {
   "cell_type": "markdown",
   "id": "0c11cded-37ba-4da3-bc50-2c96832aed86",
   "metadata": {},
   "source": [
    "### Corpus"
   ]
  },
  {
   "cell_type": "markdown",
   "metadata": {},
   "source": [
    "### Modeling"
   ]
  },
  {
   "cell_type": "markdown",
   "id": "b8adb355-5224-4ea0-936c-46641b0ca8cc",
   "metadata": {},
   "source": [
    "#### Training Data"
   ]
  },
  {
   "cell_type": "markdown",
   "metadata": {},
   "source": [
    "The data corpus we are working with is from a curated dataset from another project we had found online at this [repo](https://github.com/zhao1701/spotify-song-lyric-analysis/tree/master#building-the-dataset) "
   ]
  },
  {
   "cell_type": "code",
   "execution_count": 10,
   "metadata": {},
   "outputs": [
    {
     "data": {
      "text/html": [
       "<div>\n",
       "<style scoped>\n",
       "    .dataframe tbody tr th:only-of-type {\n",
       "        vertical-align: middle;\n",
       "    }\n",
       "\n",
       "    .dataframe tbody tr th {\n",
       "        vertical-align: top;\n",
       "    }\n",
       "\n",
       "    .dataframe thead th {\n",
       "        text-align: right;\n",
       "    }\n",
       "</style>\n",
       "<table border=\"1\" class=\"dataframe\">\n",
       "  <thead>\n",
       "    <tr style=\"text-align: right;\">\n",
       "      <th></th>\n",
       "      <th>artist_all</th>\n",
       "      <th>artist_base</th>\n",
       "      <th>rank</th>\n",
       "      <th>song</th>\n",
       "      <th>year</th>\n",
       "      <th>artist_featured</th>\n",
       "      <th>song_clean</th>\n",
       "      <th>artist_clean</th>\n",
       "      <th>lyrics</th>\n",
       "      <th>acousticness</th>\n",
       "      <th>...</th>\n",
       "      <th>speechiness</th>\n",
       "      <th>tempo</th>\n",
       "      <th>time_signature</th>\n",
       "      <th>valence</th>\n",
       "      <th>duration_min</th>\n",
       "      <th>num_words</th>\n",
       "      <th>words_per_sec</th>\n",
       "      <th>num_uniq_words</th>\n",
       "      <th>decade</th>\n",
       "      <th>uniq_ratio</th>\n",
       "    </tr>\n",
       "  </thead>\n",
       "  <tbody>\n",
       "    <tr>\n",
       "      <th>0</th>\n",
       "      <td>percy faith</td>\n",
       "      <td>percy faith</td>\n",
       "      <td>1</td>\n",
       "      <td>theme from a summer place</td>\n",
       "      <td>1960</td>\n",
       "      <td>NaN</td>\n",
       "      <td>theme from a summer place</td>\n",
       "      <td>percy faith</td>\n",
       "      <td>theres a summer place where it may rain or sto...</td>\n",
       "      <td>0.631</td>\n",
       "      <td>...</td>\n",
       "      <td>0.0253</td>\n",
       "      <td>92.631</td>\n",
       "      <td>4.0</td>\n",
       "      <td>0.749</td>\n",
       "      <td>2.414883</td>\n",
       "      <td>104.0</td>\n",
       "      <td>0.717771</td>\n",
       "      <td>58.0</td>\n",
       "      <td>1960</td>\n",
       "      <td>1.793103</td>\n",
       "    </tr>\n",
       "    <tr>\n",
       "      <th>1</th>\n",
       "      <td>jim reeves</td>\n",
       "      <td>jim reeves</td>\n",
       "      <td>2</td>\n",
       "      <td>he'll have to go</td>\n",
       "      <td>1960</td>\n",
       "      <td>NaN</td>\n",
       "      <td>hell have to go</td>\n",
       "      <td>jim reeves</td>\n",
       "      <td>put your sweet lips a little closer to the pho...</td>\n",
       "      <td>0.909</td>\n",
       "      <td>...</td>\n",
       "      <td>0.0379</td>\n",
       "      <td>81.181</td>\n",
       "      <td>3.0</td>\n",
       "      <td>0.200</td>\n",
       "      <td>2.310667</td>\n",
       "      <td>152.0</td>\n",
       "      <td>1.096365</td>\n",
       "      <td>69.0</td>\n",
       "      <td>1960</td>\n",
       "      <td>2.202899</td>\n",
       "    </tr>\n",
       "    <tr>\n",
       "      <th>2</th>\n",
       "      <td>the everly brothers</td>\n",
       "      <td>the everly brothers</td>\n",
       "      <td>3</td>\n",
       "      <td>cathy's clown</td>\n",
       "      <td>1960</td>\n",
       "      <td>NaN</td>\n",
       "      <td>cathys clown</td>\n",
       "      <td>the everly brothers</td>\n",
       "      <td>dont want your love any more dont want your k...</td>\n",
       "      <td>0.412</td>\n",
       "      <td>...</td>\n",
       "      <td>0.0339</td>\n",
       "      <td>119.809</td>\n",
       "      <td>4.0</td>\n",
       "      <td>0.866</td>\n",
       "      <td>2.400217</td>\n",
       "      <td>121.0</td>\n",
       "      <td>0.840202</td>\n",
       "      <td>64.0</td>\n",
       "      <td>1960</td>\n",
       "      <td>1.890625</td>\n",
       "    </tr>\n",
       "  </tbody>\n",
       "</table>\n",
       "<p>3 rows × 30 columns</p>\n",
       "</div>"
      ],
      "text/plain": [
       "            artist_all          artist_base  rank                       song  \\\n",
       "0          percy faith          percy faith     1  theme from a summer place   \n",
       "1           jim reeves           jim reeves     2           he'll have to go   \n",
       "2  the everly brothers  the everly brothers     3              cathy's clown   \n",
       "\n",
       "   year artist_featured                 song_clean         artist_clean  \\\n",
       "0  1960             NaN  theme from a summer place          percy faith   \n",
       "1  1960             NaN            hell have to go           jim reeves   \n",
       "2  1960             NaN               cathys clown  the everly brothers   \n",
       "\n",
       "                                              lyrics  acousticness  ...  \\\n",
       "0  theres a summer place where it may rain or sto...         0.631  ...   \n",
       "1  put your sweet lips a little closer to the pho...         0.909  ...   \n",
       "2   dont want your love any more dont want your k...         0.412  ...   \n",
       "\n",
       "   speechiness    tempo  time_signature  valence  duration_min  num_words  \\\n",
       "0       0.0253   92.631             4.0    0.749      2.414883      104.0   \n",
       "1       0.0379   81.181             3.0    0.200      2.310667      152.0   \n",
       "2       0.0339  119.809             4.0    0.866      2.400217      121.0   \n",
       "\n",
       "   words_per_sec  num_uniq_words  decade uniq_ratio  \n",
       "0       0.717771            58.0    1960   1.793103  \n",
       "1       1.096365            69.0    1960   2.202899  \n",
       "2       0.840202            64.0    1960   1.890625  \n",
       "\n",
       "[3 rows x 30 columns]"
      ]
     },
     "execution_count": 10,
     "metadata": {},
     "output_type": "execute_result"
    }
   ],
   "source": [
    "df_sptfy = pd.read_csv('data/billboard-lyrics-spotify.csv')\n",
    "df_sptfy = df_sptfy[df_sptfy['num_words'] > 1]\n",
    "df_sptfy.dropna(subset=['lyrics'], inplace=True)\n",
    "df_sptfy.head(3)"
   ]
  },
  {
   "cell_type": "markdown",
   "metadata": {},
   "source": [
    "The following are some of the basic statistics of the corpus"
   ]
  },
  {
   "cell_type": "code",
   "execution_count": 9,
   "metadata": {},
   "outputs": [
    {
     "name": "stdout",
     "output_type": "stream",
     "text": [
      "There are 5491 songs in the dataset\n",
      "The earliest year in the dataset is from 1960\n",
      "The latest year in the dataset is from 2017\n",
      "The shortest lyrics are 5.0 words in length\n",
      "The longest lyrics are 1143.0 words in length\n",
      "The fastest tempo in the dataset is 233.429\n",
      "The shortest tempo in the dataset is 50.975\n",
      "The average tempo in the dataset is 119.34795571401764\n",
      "There are 2229 unique artists\n"
     ]
    }
   ],
   "source": [
    "print('There are', len(df_sptfy), 'songs in the dataset')\n",
    "print('The earliest year in the dataset is from', df_sptfy['year'].min())\n",
    "print('The latest year in the dataset is from', df_sptfy['year'].max())\n",
    "print('The shortest lyrics are', df_sptfy['num_words'].min(), 'words in length')\n",
    "print('The longest lyrics are', df_sptfy['num_words'].max(), 'words in length')\n",
    "print('The fastest tempo in the dataset is', df_sptfy['tempo'].max())\n",
    "print('The shortest tempo in the dataset is', df_sptfy['tempo'].min())\n",
    "print('The average tempo in the dataset is', df_sptfy['tempo'].mean())\n",
    "print('There are', df_sptfy['artist_clean'].nunique(), 'unique artists')"
   ]
  },
  {
   "cell_type": "code",
   "execution_count": 12,
   "metadata": {},
   "outputs": [],
   "source": [
    "value_counts = df_sptfy['decade'].value_counts()\n",
    "\n",
    "grouped_data = df_sptfy.groupby('decade')\n",
    "\n",
    "for value, group in grouped_data:\n",
    "    group_name = f\"df_year_{value}\"  # Creating a unique name for each DataFrame\n",
    "    globals()[group_name] = group.copy()"
   ]
  },
  {
   "cell_type": "markdown",
   "metadata": {},
   "source": [
    "We split the corpus by decade, for each decade there are a different amount of lyric entries."
   ]
  },
  {
   "cell_type": "code",
   "execution_count": 13,
   "metadata": {},
   "outputs": [
    {
     "name": "stdout",
     "output_type": "stream",
     "text": [
      "df_year_1980 has 991 entries\n",
      "df_year_1970 has 981 entries\n",
      "df_year_1960 has 960 entries\n",
      "df_year_1990 has 931 entries\n",
      "df_year_2000 has 919 entries\n",
      "df_year_2010 has 709 entries\n"
     ]
    }
   ],
   "source": [
    "for value in value_counts.index:\n",
    "    global_variable_name = f\"df_year_{value}\"\n",
    "    print(f\"{global_variable_name} has {len(globals()[global_variable_name])} entries\")"
   ]
  },
  {
   "cell_type": "markdown",
   "id": "953529d5-c792-4b1f-9e13-970ce1c4aa27",
   "metadata": {},
   "source": [
    "#### Model Architecture 1: NER"
   ]
  },
  {
   "cell_type": "markdown",
   "metadata": {},
   "source": [
    "The first model uses Named Entity Recognition to identify how the subjects discussed in our corpus change across decades. We primarily tracked the entities of location, nationiality/religious group, product, event, person, organization, and geopolitical event. We found that these entities tend to have a combination of enough data, interesting results, and unique enough results. \n",
    "\n",
    "We tried multiple spaCy models when testing our code, but ulitmately landed on `en_core_web_lg`, which we determined found the most relevant entities. We filtered our corpus by decade and then applied this model to each set of lyrics in our corpus. Next, we filtered out the entities that had no relevance to our project, such as ordinals and times. Using the remaining entities, we created wordclouds for each (decade, entity) pair. \n",
    "\n",
    "From our corpus, we only used the `lyrics` and `decade` labels as inputs. The outputs are a set of entities linked to each set of lyrics, which is in turn grouped into dicts by the `decade` label.\n",
    "\n",
    "*How was spacy trained and why did we use it? Provide justification for why you believe the off-the-shelf model is appropriate for your use case.*"
   ]
  },
  {
   "cell_type": "markdown",
   "id": "a5a96d99-828b-4e54-9665-60baeec596ad",
   "metadata": {},
   "source": [
    "#### Model Architecture 2"
   ]
  },
  {
   "cell_type": "markdown",
   "id": "0e9c215f-96fa-4d11-a201-8be495f9c616",
   "metadata": {},
   "source": [
    "### Describing Visualizing Results"
   ]
  },
  {
   "cell_type": "markdown",
   "metadata": {},
   "source": [
    "Our initial question was what are the noticable trends about entities that we can observably see by decade from the corpus of song lyrics? "
   ]
  },
  {
   "cell_type": "code",
   "execution_count": null,
   "id": "d171b05a-3640-4921-ac4d-9dc234cff736",
   "metadata": {},
   "outputs": [],
   "source": [
    "nlp = spacy.load('en_core_web_lg')\n",
    "for value in value_counts.index:\n",
    "    df = f\"df_year_{value}\"\n",
    "    list_name = f\"lyrics_{value}\"\n",
    "    globals()[list_name] = []\n",
    "    for song in globals()[df]['lyrics']:\n",
    "        globals()[list_name].append(nlp(song))"
   ]
  },
  {
   "cell_type": "code",
   "execution_count": 20,
   "metadata": {},
   "outputs": [
    {
     "name": "stdout",
     "output_type": "stream",
     "text": [
      "Decade: 1980\n",
      "Average entities per document: 3.8708375378405653\n",
      "\n",
      "Average entity type per document:\n",
      "DATE 0.5267406659939455\n",
      "PERSON 0.8012108980827447\n",
      "TIME 1.099899091826438\n",
      "CARDINAL 0.6881937436932392\n",
      "GPE 0.26538849646821394\n",
      "ORDINAL 0.1846619576185671\n",
      "NORP 0.05852674066599395\n",
      "ORG 0.18668012108980828\n",
      "QUANTITY 0.01917255297679112\n",
      "MONEY 0.007063572149344097\n",
      "LOC 0.02119071644803229\n",
      "PRODUCT 0.007063572149344097\n",
      "LAW 0.0010090817356205853\n",
      "FAC 0.0020181634712411706\n",
      "EVENT 0.0020181634712411706\n",
      "\n",
      "Decade: 1970\n",
      "Average entities per document: 3.8868501529051986\n",
      "\n",
      "Average entity type per document:\n",
      "DATE 0.7033639143730887\n",
      "NORP 0.08256880733944955\n",
      "PERSON 0.928644240570846\n",
      "CARDINAL 0.601427115188583\n",
      "TIME 0.7145769622833843\n",
      "ORG 0.21508664627930682\n",
      "GPE 0.37716615698267075\n",
      "ORDINAL 0.1365953109072375\n",
      "PRODUCT 0.01834862385321101\n",
      "LOC 0.03160040774719674\n",
      "QUANTITY 0.05198776758409786\n",
      "FAC 0.011213047910295617\n",
      "LANGUAGE 0.0010193679918450561\n",
      "MONEY 0.011213047910295617\n",
      "LAW 0.0020387359836901123\n",
      "\n",
      "Decade: 1960\n",
      "Average entities per document: 3.7354166666666666\n",
      "\n",
      "Average entity type per document:\n",
      "DATE 0.6510416666666666\n",
      "CARDINAL 0.59375\n",
      "GPE 0.28229166666666666\n",
      "NORP 0.075\n",
      "TIME 0.5270833333333333\n",
      "LOC 0.042708333333333334\n",
      "ORG 0.22604166666666667\n",
      "PERSON 1.1385416666666666\n",
      "ORDINAL 0.08229166666666667\n",
      "QUANTITY 0.051041666666666666\n",
      "MONEY 0.013541666666666667\n",
      "FAC 0.017708333333333333\n",
      "PRODUCT 0.03125\n",
      "PERCENT 0.0010416666666666667\n",
      "EVENT 0.0020833333333333333\n",
      "\n",
      "Decade: 1990\n",
      "Average entities per document: 5.711063372717508\n",
      "\n",
      "Average entity type per document:\n",
      "DATE 0.9548872180451128\n",
      "TIME 0.8625134264232008\n",
      "PERSON 1.41890440386681\n",
      "CARDINAL 1.17937701396348\n",
      "ORDINAL 0.15467239527389903\n",
      "LOC 0.03007518796992481\n",
      "QUANTITY 0.06229860365198711\n",
      "LAW 0.0021482277121374865\n",
      "ORG 0.5155746509129968\n",
      "NORP 0.13748657357679914\n",
      "GPE 0.2975295381310419\n",
      "FAC 0.04189044038668099\n",
      "PRODUCT 0.027926960257787327\n",
      "MONEY 0.01611170784103115\n",
      "EVENT 0.0053705692803437165\n",
      "PERCENT 0.0021482277121374865\n",
      "LANGUAGE 0.0021482277121374865\n",
      "\n",
      "Decade: 2000\n",
      "Average entities per document: 7.6300326441784545\n",
      "\n",
      "Average entity type per document:\n",
      "PERSON 1.9956474428726878\n",
      "NORP 0.2546245919477693\n",
      "GPE 0.5788900979325353\n",
      "ORG 0.8171926006528836\n",
      "DATE 0.9216539717083787\n",
      "ORDINAL 0.3220892274211099\n",
      "CARDINAL 1.603917301414581\n",
      "TIME 0.8890097932535365\n",
      "QUANTITY 0.1044613710554951\n",
      "LOC 0.03917301414581066\n",
      "PRODUCT 0.025027203482045703\n",
      "FAC 0.036996735582154515\n",
      "MONEY 0.03482045701849837\n",
      "LAW 0.003264417845484222\n",
      "PERCENT 0.001088139281828074\n",
      "LANGUAGE 0.002176278563656148\n",
      "\n",
      "Decade: 2010\n",
      "Average entities per document: 7.100141043723554\n",
      "\n",
      "Average entity type per document:\n",
      "PERSON 1.6093088857545839\n",
      "TIME 1.4062059238363893\n",
      "DATE 0.767277856135402\n",
      "CARDINAL 1.4541607898448519\n",
      "ORG 0.6346967559943583\n",
      "LOC 0.06346967559943582\n",
      "GPE 0.5627644569816643\n",
      "ORDINAL 0.23413258110014104\n",
      "NORP 0.1777150916784203\n",
      "EVENT 0.0014104372355430183\n",
      "MONEY 0.0465444287729196\n",
      "QUANTITY 0.07898448519040903\n",
      "FAC 0.005641748942172073\n",
      "PRODUCT 0.04936530324400564\n",
      "LANGUAGE 0.0028208744710860366\n",
      "PERCENT 0.005641748942172073\n",
      "\n"
     ]
    }
   ],
   "source": [
    "for value in value_counts.index: \n",
    "    c = Counter()\n",
    "    sum_entities = 0\n",
    "\n",
    "    for song in globals()[f'lyrics_{value}']:\n",
    "        sum_entities += len(song.ents)\n",
    "        c.update([e.label_ for e in song.ents])\n",
    "\n",
    "    average_entities = sum_entities / len(globals()[f'df_year_{value}'])\n",
    "\n",
    "    print(f'Decade: {value}')\n",
    "    print('Average entities per document:', average_entities)\n",
    "    print('\\nAverage entity type per document:')\n",
    "    for item in c:\n",
    "        print(item, c[item] / len(globals()[f'df_year_{value}']))\n",
    "    print()"
   ]
  },
  {
   "cell_type": "markdown",
   "metadata": {},
   "source": [
    "### Discussion"
   ]
  },
  {
   "cell_type": "markdown",
   "metadata": {},
   "source": []
  }
 ],
 "metadata": {
  "kernelspec": {
   "display_name": "Python 3 (ipykernel)",
   "language": "python",
   "name": "python3"
  },
  "language_info": {
   "codemirror_mode": {
    "name": "ipython",
    "version": 3
   },
   "file_extension": ".py",
   "mimetype": "text/x-python",
   "name": "python",
   "nbconvert_exporter": "python",
   "pygments_lexer": "ipython3",
   "version": "3.11.5"
  }
 },
 "nbformat": 4,
 "nbformat_minor": 5
}

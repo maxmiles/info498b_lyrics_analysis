{
 "cells": [
  {
   "cell_type": "markdown",
   "id": "19717764-612d-4e35-85d3-7b700b4f38ed",
   "metadata": {
    "tags": []
   },
   "source": [
    "# INFO 498 B | Spotify Lyric Analysis"
   ]
  },
  {
   "cell_type": "markdown",
   "id": "e1ee6bce-a867-4bb6-895b-716ada36a428",
   "metadata": {},
   "source": [
    "### Group 6 | Maxwell Bennett, Sydney Castello, Justin Tham, Ian Wang | 12th December 2023"
   ]
  },
  {
   "cell_type": "markdown",
   "id": "be827476-75c7-49ef-b43e-6a2beb13efad",
   "metadata": {},
   "source": [
    "---"
   ]
  },
  {
   "cell_type": "markdown",
   "id": "65bae1e7-fab7-4669-8cc3-d54827b21e97",
   "metadata": {},
   "source": [
    "### Introduction and Motivation"
   ]
  },
  {
   "cell_type": "markdown",
   "id": "0c11cded-37ba-4da3-bc50-2c96832aed86",
   "metadata": {},
   "source": [
    "### Corpus"
   ]
  },
  {
   "cell_type": "code",
   "execution_count": null,
   "id": "0a32d0bb-99be-4110-9d48-81be526aab7b",
   "metadata": {},
   "outputs": [],
   "source": []
  },
  {
   "cell_type": "markdown",
   "id": "953529d5-c792-4b1f-9e13-970ce1c4aa27",
   "metadata": {},
   "source": [
    "### Modeling Task 1"
   ]
  },
  {
   "cell_type": "markdown",
   "id": "a5a96d99-828b-4e54-9665-60baeec596ad",
   "metadata": {},
   "source": [
    "### Modeling Task 2"
   ]
  },
  {
   "cell_type": "code",
   "execution_count": null,
   "id": "d7df4111-5569-4c68-9b00-d7ff6ee7638a",
   "metadata": {},
   "outputs": [],
   "source": []
  }
 ],
 "metadata": {
  "kernelspec": {
   "display_name": "Python 3 (ipykernel)",
   "language": "python",
   "name": "python3"
  },
  "language_info": {
   "codemirror_mode": {
    "name": "ipython",
    "version": 3
   },
   "file_extension": ".py",
   "mimetype": "text/x-python",
   "name": "python",
   "nbconvert_exporter": "python",
   "pygments_lexer": "ipython3",
   "version": "3.11.5"
  }
 },
 "nbformat": 4,
 "nbformat_minor": 5
}

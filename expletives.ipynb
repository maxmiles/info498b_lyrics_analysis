{
 "cells": [
  {
   "cell_type": "code",
   "execution_count": 29,
   "metadata": {},
   "outputs": [
    {
     "name": "stderr",
     "output_type": "stream",
     "text": [
      "[nltk_data] Downloading package stopwords to\n",
      "[nltk_data]     C:\\Users\\justi\\AppData\\Roaming\\nltk_data...\n",
      "[nltk_data]   Package stopwords is already up-to-date!\n"
     ]
    },
    {
     "data": {
      "text/plain": [
       "True"
      ]
     },
     "execution_count": 29,
     "metadata": {},
     "output_type": "execute_result"
    }
   ],
   "source": [
    "import pandas as pd\n",
    "import numpy as np\n",
    "from nltk.tokenize import word_tokenize\n",
    "import nltk\n",
    "from nltk.stem.porter import PorterStemmer\n",
    "from nltk.corpus import stopwords\n",
    "nltk.download('stopwords')"
   ]
  },
  {
   "cell_type": "code",
   "execution_count": 2,
   "metadata": {},
   "outputs": [],
   "source": [
    "df = pd.read_csv('data/billboard-lyrics-spotify.csv', sep=',', header=0)"
   ]
  },
  {
   "cell_type": "code",
   "execution_count": 6,
   "metadata": {},
   "outputs": [
    {
     "data": {
      "text/html": [
       "<div>\n",
       "<style scoped>\n",
       "    .dataframe tbody tr th:only-of-type {\n",
       "        vertical-align: middle;\n",
       "    }\n",
       "\n",
       "    .dataframe tbody tr th {\n",
       "        vertical-align: top;\n",
       "    }\n",
       "\n",
       "    .dataframe thead th {\n",
       "        text-align: right;\n",
       "    }\n",
       "</style>\n",
       "<table border=\"1\" class=\"dataframe\">\n",
       "  <thead>\n",
       "    <tr style=\"text-align: right;\">\n",
       "      <th></th>\n",
       "      <th>artist_all</th>\n",
       "      <th>artist_base</th>\n",
       "      <th>rank</th>\n",
       "      <th>song</th>\n",
       "      <th>year</th>\n",
       "      <th>artist_featured</th>\n",
       "      <th>song_clean</th>\n",
       "      <th>artist_clean</th>\n",
       "      <th>lyrics</th>\n",
       "      <th>acousticness</th>\n",
       "      <th>...</th>\n",
       "      <th>speechiness</th>\n",
       "      <th>tempo</th>\n",
       "      <th>time_signature</th>\n",
       "      <th>valence</th>\n",
       "      <th>duration_min</th>\n",
       "      <th>num_words</th>\n",
       "      <th>words_per_sec</th>\n",
       "      <th>num_uniq_words</th>\n",
       "      <th>decade</th>\n",
       "      <th>uniq_ratio</th>\n",
       "    </tr>\n",
       "  </thead>\n",
       "  <tbody>\n",
       "    <tr>\n",
       "      <th>0</th>\n",
       "      <td>percy faith</td>\n",
       "      <td>percy faith</td>\n",
       "      <td>1</td>\n",
       "      <td>theme from a summer place</td>\n",
       "      <td>1960</td>\n",
       "      <td>NaN</td>\n",
       "      <td>theme from a summer place</td>\n",
       "      <td>percy faith</td>\n",
       "      <td>theres a summer place where it may rain or sto...</td>\n",
       "      <td>0.631</td>\n",
       "      <td>...</td>\n",
       "      <td>0.0253</td>\n",
       "      <td>92.631</td>\n",
       "      <td>4.0</td>\n",
       "      <td>0.749</td>\n",
       "      <td>2.414883</td>\n",
       "      <td>104.0</td>\n",
       "      <td>0.717771</td>\n",
       "      <td>58.0</td>\n",
       "      <td>1960</td>\n",
       "      <td>1.793103</td>\n",
       "    </tr>\n",
       "  </tbody>\n",
       "</table>\n",
       "<p>1 rows × 30 columns</p>\n",
       "</div>"
      ],
      "text/plain": [
       "    artist_all  artist_base  rank                       song  year  \\\n",
       "0  percy faith  percy faith     1  theme from a summer place  1960   \n",
       "\n",
       "  artist_featured                 song_clean artist_clean  \\\n",
       "0             NaN  theme from a summer place  percy faith   \n",
       "\n",
       "                                              lyrics  acousticness  ...  \\\n",
       "0  theres a summer place where it may rain or sto...         0.631  ...   \n",
       "\n",
       "   speechiness   tempo  time_signature  valence  duration_min  num_words  \\\n",
       "0       0.0253  92.631             4.0    0.749      2.414883      104.0   \n",
       "\n",
       "   words_per_sec  num_uniq_words  decade uniq_ratio  \n",
       "0       0.717771            58.0    1960   1.793103  \n",
       "\n",
       "[1 rows x 30 columns]"
      ]
     },
     "execution_count": 6,
     "metadata": {},
     "output_type": "execute_result"
    }
   ],
   "source": [
    "df.head(1)"
   ]
  },
  {
   "cell_type": "code",
   "execution_count": 26,
   "metadata": {},
   "outputs": [],
   "source": [
    "# df['lyrics']\n",
    "lyrics = [item for item in df['lyrics']]\n",
    "lyrics_strings = list(map(str, lyrics))\n",
    "lyrics_words = [word_tokenize(item) for item in lyrics_strings]"
   ]
  },
  {
   "cell_type": "code",
   "execution_count": 28,
   "metadata": {},
   "outputs": [
    {
     "name": "stdout",
     "output_type": "stream",
     "text": [
      "Average number of words per song: 303.3695652173913\n",
      "Minimum number of words per song: 0\n",
      "Maximum number of words per song: 1153\n"
     ]
    }
   ],
   "source": [
    "word_counts = [len(item) for item in lyrics_words]\n",
    "avg_word_counts = np.mean(word_counts)\n",
    "min_words = np.min(word_counts)\n",
    "max_words = np.max(word_counts)\n",
    "print('Average number of words per song: {}'.format(avg_word_counts))\n",
    "print('Minimum number of words per song: {}'.format(min_words))\n",
    "print('Maximum number of words per song: {}'.format(max_words))"
   ]
  },
  {
   "cell_type": "code",
   "execution_count": 30,
   "metadata": {},
   "outputs": [],
   "source": [
    "sw = set(stopwords.words('english'))\n",
    "lowercased = [[word.lower() for word in item] for item in lyrics_words]\n",
    "removed_punctuation = [[word for word in review if word.isalnum()] for review in lowercased]\n",
    "removed_stopwords = [[word for word in review if word not in sw] for review in removed_punctuation]"
   ]
  },
  {
   "cell_type": "code",
   "execution_count": null,
   "metadata": {},
   "outputs": [],
   "source": [
    "ps = PorterStemmer()\n",
    "stemmed = [[ps.stem(word) for word in review] for review in removed_stopwords]\n"
   ]
  },
  {
   "cell_type": "code",
   "execution_count": null,
   "metadata": {},
   "outputs": [],
   "source": [
    "from nltk.util import ngrams\n",
    "\n",
    "unigrams = [list(ngrams(item, 1)) for item in removed_punctuation]\n",
    "bigrams = [list(ngrams(item, 2)) for item in removed_punctuation]\n",
    "trigrams = [list(ngrams(item, 3)) for item in removed_punctuation]"
   ]
  }
 ],
 "metadata": {
  "kernelspec": {
   "display_name": "info498b",
   "language": "python",
   "name": "python3"
  },
  "language_info": {
   "codemirror_mode": {
    "name": "ipython",
    "version": 3
   },
   "file_extension": ".py",
   "mimetype": "text/x-python",
   "name": "python",
   "nbconvert_exporter": "python",
   "pygments_lexer": "ipython3",
   "version": "3.11.5"
  }
 },
 "nbformat": 4,
 "nbformat_minor": 2
}

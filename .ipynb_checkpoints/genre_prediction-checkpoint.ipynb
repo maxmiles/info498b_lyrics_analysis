{
 "cells": [
  {
   "cell_type": "markdown",
   "metadata": {},
   "source": [
    "# Genre Prediction"
   ]
  },
  {
   "cell_type": "markdown",
   "metadata": {},
   "source": [
    "## What are the 10 most popular genres per decade on spotify?"
   ]
  },
  {
   "cell_type": "markdown",
   "metadata": {},
   "source": [
    "### Import Libraries"
   ]
  },
  {
   "cell_type": "code",
   "execution_count": 1,
   "metadata": {
    "tags": []
   },
   "outputs": [],
   "source": [
    "import pandas as pd\n",
    "from sklearn.feature_extraction.text import TfidfVectorizer\n",
    "import random\n",
    "from sklearn.linear_model import LogisticRegression\n",
    "from sklearn.neighbors import KNeighborsClassifier\n",
    "from sklearn.metrics import accuracy_score, precision_score, recall_score, f1_score, confusion_matrix\n",
    "from sklearn.neighbors import KNeighborsClassifier\n",
    "from sklearn.metrics import f1_score\n",
    "from sklearn.metrics import classification_report\n",
    "from sklearn.model_selection import train_test_split"
   ]
  },
  {
   "cell_type": "markdown",
   "metadata": {},
   "source": [
    "### Load Dataset"
   ]
  },
  {
   "cell_type": "code",
   "execution_count": 2,
   "metadata": {
    "tags": []
   },
   "outputs": [],
   "source": [
    "df_sptfy = pd.read_csv('data/billboard-lyrics-spotify.csv')\n",
    "print(df_sptfy.shape)\n",
    "df_sptfy = df_sptfy[df_sptfy['num_words'] > 1]\n",
    "df_sptfy.dropna(subset=['lyrics'], inplace=True)\n",
    "print(df_sptfy.shape)"
   ]
  },
  {
   "cell_type": "code",
   "execution_count": 3,
   "metadata": {
    "tags": []
   },
   "outputs": [
    {
     "data": {
      "text/html": [
       "<div>\n",
       "<style scoped>\n",
       "    .dataframe tbody tr th:only-of-type {\n",
       "        vertical-align: middle;\n",
       "    }\n",
       "\n",
       "    .dataframe tbody tr th {\n",
       "        vertical-align: top;\n",
       "    }\n",
       "\n",
       "    .dataframe thead th {\n",
       "        text-align: right;\n",
       "    }\n",
       "</style>\n",
       "<table border=\"1\" class=\"dataframe\">\n",
       "  <thead>\n",
       "    <tr style=\"text-align: right;\">\n",
       "      <th></th>\n",
       "      <th>artist_all</th>\n",
       "      <th>artist_base</th>\n",
       "      <th>rank</th>\n",
       "      <th>song</th>\n",
       "      <th>year</th>\n",
       "      <th>artist_featured</th>\n",
       "      <th>song_clean</th>\n",
       "      <th>artist_clean</th>\n",
       "      <th>lyrics</th>\n",
       "      <th>acousticness</th>\n",
       "      <th>...</th>\n",
       "      <th>speechiness</th>\n",
       "      <th>tempo</th>\n",
       "      <th>time_signature</th>\n",
       "      <th>valence</th>\n",
       "      <th>duration_min</th>\n",
       "      <th>num_words</th>\n",
       "      <th>words_per_sec</th>\n",
       "      <th>num_uniq_words</th>\n",
       "      <th>decade</th>\n",
       "      <th>uniq_ratio</th>\n",
       "    </tr>\n",
       "  </thead>\n",
       "  <tbody>\n",
       "    <tr>\n",
       "      <th>0</th>\n",
       "      <td>percy faith</td>\n",
       "      <td>percy faith</td>\n",
       "      <td>1</td>\n",
       "      <td>theme from a summer place</td>\n",
       "      <td>1960</td>\n",
       "      <td>NaN</td>\n",
       "      <td>theme from a summer place</td>\n",
       "      <td>percy faith</td>\n",
       "      <td>theres a summer place where it may rain or sto...</td>\n",
       "      <td>0.631</td>\n",
       "      <td>...</td>\n",
       "      <td>0.0253</td>\n",
       "      <td>92.631</td>\n",
       "      <td>4.0</td>\n",
       "      <td>0.749</td>\n",
       "      <td>2.414883</td>\n",
       "      <td>104.0</td>\n",
       "      <td>0.717771</td>\n",
       "      <td>58.0</td>\n",
       "      <td>1960</td>\n",
       "      <td>1.793103</td>\n",
       "    </tr>\n",
       "    <tr>\n",
       "      <th>1</th>\n",
       "      <td>jim reeves</td>\n",
       "      <td>jim reeves</td>\n",
       "      <td>2</td>\n",
       "      <td>he'll have to go</td>\n",
       "      <td>1960</td>\n",
       "      <td>NaN</td>\n",
       "      <td>hell have to go</td>\n",
       "      <td>jim reeves</td>\n",
       "      <td>put your sweet lips a little closer to the pho...</td>\n",
       "      <td>0.909</td>\n",
       "      <td>...</td>\n",
       "      <td>0.0379</td>\n",
       "      <td>81.181</td>\n",
       "      <td>3.0</td>\n",
       "      <td>0.200</td>\n",
       "      <td>2.310667</td>\n",
       "      <td>152.0</td>\n",
       "      <td>1.096365</td>\n",
       "      <td>69.0</td>\n",
       "      <td>1960</td>\n",
       "      <td>2.202899</td>\n",
       "    </tr>\n",
       "    <tr>\n",
       "      <th>2</th>\n",
       "      <td>the everly brothers</td>\n",
       "      <td>the everly brothers</td>\n",
       "      <td>3</td>\n",
       "      <td>cathy's clown</td>\n",
       "      <td>1960</td>\n",
       "      <td>NaN</td>\n",
       "      <td>cathys clown</td>\n",
       "      <td>the everly brothers</td>\n",
       "      <td>dont want your love any more dont want your k...</td>\n",
       "      <td>0.412</td>\n",
       "      <td>...</td>\n",
       "      <td>0.0339</td>\n",
       "      <td>119.809</td>\n",
       "      <td>4.0</td>\n",
       "      <td>0.866</td>\n",
       "      <td>2.400217</td>\n",
       "      <td>121.0</td>\n",
       "      <td>0.840202</td>\n",
       "      <td>64.0</td>\n",
       "      <td>1960</td>\n",
       "      <td>1.890625</td>\n",
       "    </tr>\n",
       "    <tr>\n",
       "      <th>3</th>\n",
       "      <td>johnny preston</td>\n",
       "      <td>johnny preston</td>\n",
       "      <td>4</td>\n",
       "      <td>running bear</td>\n",
       "      <td>1960</td>\n",
       "      <td>NaN</td>\n",
       "      <td>running bear</td>\n",
       "      <td>johnny preston</td>\n",
       "      <td>on the bank of the river stood running bear yo...</td>\n",
       "      <td>0.854</td>\n",
       "      <td>...</td>\n",
       "      <td>0.0530</td>\n",
       "      <td>119.987</td>\n",
       "      <td>4.0</td>\n",
       "      <td>0.822</td>\n",
       "      <td>2.636667</td>\n",
       "      <td>220.0</td>\n",
       "      <td>1.390645</td>\n",
       "      <td>89.0</td>\n",
       "      <td>1960</td>\n",
       "      <td>2.471910</td>\n",
       "    </tr>\n",
       "    <tr>\n",
       "      <th>4</th>\n",
       "      <td>mark dinning</td>\n",
       "      <td>mark dinning</td>\n",
       "      <td>5</td>\n",
       "      <td>teen angel</td>\n",
       "      <td>1960</td>\n",
       "      <td>NaN</td>\n",
       "      <td>teen angel</td>\n",
       "      <td>mark dinning</td>\n",
       "      <td>teen angel teen angel teen angel that fateful ...</td>\n",
       "      <td>0.936</td>\n",
       "      <td>...</td>\n",
       "      <td>0.0459</td>\n",
       "      <td>101.517</td>\n",
       "      <td>4.0</td>\n",
       "      <td>0.282</td>\n",
       "      <td>2.664883</td>\n",
       "      <td>109.0</td>\n",
       "      <td>0.681706</td>\n",
       "      <td>73.0</td>\n",
       "      <td>1960</td>\n",
       "      <td>1.493151</td>\n",
       "    </tr>\n",
       "  </tbody>\n",
       "</table>\n",
       "<p>5 rows × 30 columns</p>\n",
       "</div>"
      ],
      "text/plain": [
       "            artist_all          artist_base  rank                       song  \\\n",
       "0          percy faith          percy faith     1  theme from a summer place   \n",
       "1           jim reeves           jim reeves     2           he'll have to go   \n",
       "2  the everly brothers  the everly brothers     3              cathy's clown   \n",
       "3       johnny preston       johnny preston     4               running bear   \n",
       "4         mark dinning         mark dinning     5                 teen angel   \n",
       "\n",
       "   year artist_featured                 song_clean         artist_clean  \\\n",
       "0  1960             NaN  theme from a summer place          percy faith   \n",
       "1  1960             NaN            hell have to go           jim reeves   \n",
       "2  1960             NaN               cathys clown  the everly brothers   \n",
       "3  1960             NaN               running bear       johnny preston   \n",
       "4  1960             NaN                 teen angel         mark dinning   \n",
       "\n",
       "                                              lyrics  acousticness  ...  \\\n",
       "0  theres a summer place where it may rain or sto...         0.631  ...   \n",
       "1  put your sweet lips a little closer to the pho...         0.909  ...   \n",
       "2   dont want your love any more dont want your k...         0.412  ...   \n",
       "3  on the bank of the river stood running bear yo...         0.854  ...   \n",
       "4  teen angel teen angel teen angel that fateful ...         0.936  ...   \n",
       "\n",
       "   speechiness    tempo  time_signature  valence  duration_min  num_words  \\\n",
       "0       0.0253   92.631             4.0    0.749      2.414883      104.0   \n",
       "1       0.0379   81.181             3.0    0.200      2.310667      152.0   \n",
       "2       0.0339  119.809             4.0    0.866      2.400217      121.0   \n",
       "3       0.0530  119.987             4.0    0.822      2.636667      220.0   \n",
       "4       0.0459  101.517             4.0    0.282      2.664883      109.0   \n",
       "\n",
       "   words_per_sec  num_uniq_words  decade uniq_ratio  \n",
       "0       0.717771            58.0    1960   1.793103  \n",
       "1       1.096365            69.0    1960   2.202899  \n",
       "2       0.840202            64.0    1960   1.890625  \n",
       "3       1.390645            89.0    1960   2.471910  \n",
       "4       0.681706            73.0    1960   1.493151  \n",
       "\n",
       "[5 rows x 30 columns]"
      ]
     },
     "execution_count": 3,
     "metadata": {},
     "output_type": "execute_result"
    }
   ],
   "source": [
    "df_sptfy.head()"
   ]
  },
  {
   "cell_type": "markdown",
   "metadata": {},
   "source": [
    "This is not scientifically proven but as a simplification, I'm adding a sentiment column with either 'positive' (1) or 'negative' (0), depending on the valence. Calculated where >50 valence is positive and <50 valence is negative. In Spotify's API is something called Valence, that describes the musical positiveness conveyed by a track. Tracks with high valence sound more positive (happy, cheerful, euphoric), while tracks with low valence sound more negative (sad, depressed, angry)."
   ]
  },
  {
   "cell_type": "code",
   "execution_count": 4,
   "metadata": {
    "tags": []
   },
   "outputs": [],
   "source": [
    "df_sptfy['sentiment'] = df_sptfy['valence'].apply(lambda x: 1 if x > 0.5 else 0)"
   ]
  },
  {
   "cell_type": "code",
   "execution_count": 5,
   "metadata": {
    "tags": []
   },
   "outputs": [
    {
     "name": "stdout",
     "output_type": "stream",
     "text": [
      "There are 5566 songs in the dataset\n",
      "The earliest year in the dataset is from 1960\n",
      "The latest year in the dataset is from 2017\n",
      "The shortest lyrics are 0.0 words in length\n",
      "The shortest lyrics are 1143.0 words in length\n",
      "The fastest tempo in the dataset is 233.429\n",
      "The shortest tempo in the dataset is 50.975\n",
      "The average tempo in the dataset is 119.35458858413638\n",
      "There are 2283 unique artists\n"
     ]
    }
   ],
   "source": [
    "print('There are', len(df_sptfy), 'songs in the dataset')\n",
    "print('The earliest year in the dataset is from', df_sptfy['year'].min())\n",
    "print('The latest year in the dataset is from', df_sptfy['year'].max())\n",
    "print('The shortest lyrics are', df_sptfy['num_words'].min(), 'words in length')\n",
    "print('The shortest lyrics are', df_sptfy['num_words'].max(), 'words in length')\n",
    "print('The fastest tempo in the dataset is', df_sptfy['tempo'].max())\n",
    "print('The shortest tempo in the dataset is', df_sptfy['tempo'].min())\n",
    "print('The average tempo in the dataset is', df_sptfy['tempo'].mean())\n",
    "print('There are', df_sptfy['artist_clean'].nunique(), 'unique artists')"
   ]
  },
  {
   "cell_type": "code",
   "execution_count": 20,
   "metadata": {
    "tags": []
   },
   "outputs": [
    {
     "data": {
      "text/plain": [
       "decade\n",
       "1960    998\n",
       "1970    998\n",
       "1980    996\n",
       "1990    937\n",
       "2000    921\n",
       "2010    716\n",
       "Name: count, dtype: int64"
      ]
     },
     "execution_count": 20,
     "metadata": {},
     "output_type": "execute_result"
    }
   ],
   "source": [
    "df_sptfy['decade'].value_counts()"
   ]
  },
  {
   "cell_type": "markdown",
   "metadata": {},
   "source": [
    "### Filter by decade"
   ]
  },
  {
   "cell_type": "code",
   "execution_count": 7,
   "metadata": {
    "tags": []
   },
   "outputs": [],
   "source": [
    "value_counts = df_sptfy['decade'].value_counts()\n",
    "\n",
    "grouped_data = df_sptfy.groupby('decade')\n",
    "\n",
    "for value, group in grouped_data:\n",
    "    group_name = f\"df_year_{value}\"  # Creating a unique name for each DataFrame\n",
    "    globals()[group_name] = group.copy()"
   ]
  },
  {
   "cell_type": "code",
   "execution_count": 8,
   "metadata": {
    "tags": []
   },
   "outputs": [
    {
     "name": "stdout",
     "output_type": "stream",
     "text": [
      "Global DataFrame 'df_year_1960' has 998 entries.\n",
      "Global DataFrame 'df_year_1970' has 998 entries.\n",
      "Global DataFrame 'df_year_1980' has 996 entries.\n",
      "Global DataFrame 'df_year_1990' has 937 entries.\n",
      "Global DataFrame 'df_year_2000' has 921 entries.\n",
      "Global DataFrame 'df_year_2010' has 716 entries.\n"
     ]
    }
   ],
   "source": [
    "for value in value_counts.index:\n",
    "    global_variable_name = f\"df_year_{value}\"\n",
    "    print(f\"Global DataFrame '{global_variable_name}' has {len(globals()[global_variable_name])} entries.\")"
   ]
  },
  {
   "cell_type": "code",
   "execution_count": 9,
   "metadata": {
    "tags": []
   },
   "outputs": [
    {
     "name": "stdout",
     "output_type": "stream",
     "text": [
      "For Global DataFrame 'df_year_1960':\n",
      "Training set 'X_train_1960' has 798 entries. 'y_train_1960' has 798\n",
      "Test set 'X_test_1960' has 200 entries. 'y_test_1960' has 200\n",
      "For Global DataFrame 'df_year_1970':\n",
      "Training set 'X_train_1970' has 798 entries. 'y_train_1970' has 798\n",
      "Test set 'X_test_1970' has 200 entries. 'y_test_1970' has 200\n",
      "For Global DataFrame 'df_year_1980':\n",
      "Training set 'X_train_1980' has 796 entries. 'y_train_1980' has 796\n",
      "Test set 'X_test_1980' has 200 entries. 'y_test_1980' has 200\n",
      "For Global DataFrame 'df_year_1990':\n",
      "Training set 'X_train_1990' has 749 entries. 'y_train_1990' has 749\n",
      "Test set 'X_test_1990' has 188 entries. 'y_test_1990' has 188\n",
      "For Global DataFrame 'df_year_2000':\n",
      "Training set 'X_train_2000' has 736 entries. 'y_train_2000' has 736\n",
      "Test set 'X_test_2000' has 185 entries. 'y_test_2000' has 185\n",
      "For Global DataFrame 'df_year_2010':\n",
      "Training set 'X_train_2010' has 572 entries. 'y_train_2010' has 572\n",
      "Test set 'X_test_2010' has 144 entries. 'y_test_2010' has 144\n"
     ]
    }
   ],
   "source": [
    "for value in value_counts.index:\n",
    "    global_variable_name = f\"df_year_{value}\"\n",
    "    \n",
    "    # Assuming 'target_column' is the column you want to predict\n",
    "    X = globals()[global_variable_name].drop('sentiment', axis=1)\n",
    "    y = globals()[global_variable_name]['sentiment']\n",
    "    \n",
    "    # Split the data into train and test sets\n",
    "    X_train, X_test, y_train, y_test = train_test_split(X, y, test_size=0.2, random_state=42)\n",
    "    \n",
    "    # Create global variables for each split\n",
    "    train_name = f\"X_train_{value}\"\n",
    "    test_name = f\"X_test_{value}\"\n",
    "    y_train_name = f\"y_train_{value}\"\n",
    "    y_test_name = f\"y_test_{value}\"\n",
    "    \n",
    "    globals()[train_name] = X_train\n",
    "    globals()[test_name] = X_test\n",
    "    globals()[y_train_name] = y_train\n",
    "    globals()[y_test_name] = y_test\n",
    "    \n",
    "    # Now you can use X_train_2019, X_test_2019, y_train_2019, y_test_2019, etc. for training and testing your model\n",
    "    print(f\"For Global DataFrame '{global_variable_name}':\")\n",
    "    print(f\"Training set '{train_name}' has {len(X_train)} entries. '{y_train_name}' has {len(y_train)}\")\n",
    "    print(f\"Test set '{test_name}' has {len(X_test)} entries. '{y_test_name}' has {len(y_test)}\")"
   ]
  },
  {
   "cell_type": "markdown",
   "metadata": {},
   "source": [
    "# We probably have to test and training splits for each decade."
   ]
  },
  {
   "cell_type": "markdown",
   "metadata": {},
   "source": [
    "### Create TF-IDF vectorizer for each decade"
   ]
  },
  {
   "cell_type": "markdown",
   "metadata": {},
   "source": [
    "For each document in the test split, classify the document using KNN on the document tf-idf vectors with k=5 and cosine similarity. "
   ]
  },
  {
   "cell_type": "markdown",
   "metadata": {},
   "source": [
    "Note: you should only be comparing against the documents in the train split for classification, not those in the test split. Report the performance of your model. Compute micro- and macro-F1."
   ]
  },
  {
   "cell_type": "code",
   "execution_count": 13,
   "metadata": {
    "tags": []
   },
   "outputs": [
    {
     "data": {
      "text/plain": [
       "743    would you like to ride in my beautiful balloon...\n",
       "286    twist twist senora hey now hey now twist all a...\n",
       "165    be be a be why be be l you e be be a be why be...\n",
       "959                                                     \n",
       "493    a fool never learns to get away just run away ...\n",
       "                             ...                        \n",
       "106    its pony time get up hey now everybody in the ...\n",
       "270    he gets up each morning and he goes downtown w...\n",
       "860    if you stay stay darling you make me so proud ...\n",
       "435    if you see me walkin down the street and i sta...\n",
       "102    michael row the boat ashore hallelujah michael...\n",
       "Name: lyrics, Length: 798, dtype: object"
      ]
     },
     "execution_count": 13,
     "metadata": {},
     "output_type": "execute_result"
    }
   ],
   "source": [
    "X_train_1960['lyrics']"
   ]
  },
  {
   "cell_type": "code",
   "execution_count": 14,
   "metadata": {
    "tags": []
   },
   "outputs": [
    {
     "data": {
      "text/plain": [
       "453    1\n",
       "792    1\n",
       "209    1\n",
       "309    0\n",
       "739    0\n",
       "      ..\n",
       "78     0\n",
       "29     0\n",
       "277    1\n",
       "261    1\n",
       "423    0\n",
       "Name: sentiment, Length: 200, dtype: int64"
      ]
     },
     "execution_count": 14,
     "metadata": {},
     "output_type": "execute_result"
    }
   ],
   "source": [
    "y_test_1960"
   ]
  },
  {
   "cell_type": "code",
   "execution_count": 11,
   "metadata": {},
   "outputs": [
    {
     "name": "stdout",
     "output_type": "stream",
     "text": [
      "Precision: [0.33333333 0.74594595]\n",
      "Recall: [0.09615385 0.93243243]\n",
      "Micro F1: 0.715\n",
      "Macro F1: 0.489\n"
     ]
    }
   ],
   "source": [
    "\n",
    "vectorizer = TfidfVectorizer(min_df=5)\n",
    "X_train = vectorizer.fit_transform(X_train_1960['lyrics'])\n",
    "y_train = y_train_1960\n",
    "\n",
    "knn = KNeighborsClassifier(n_neighbors=5, metric='cosine')\n",
    "knn.fit(X_train, y_train)\n",
    "\n",
    "X_test = vectorizer.transform(X_test_1960['lyrics'])\n",
    "y_test = y_test_1960\n",
    "\n",
    "y_pred = knn.predict(X_test)\n",
    "print('Precision:', precision_score(y_test, y_pred, average=None))\n",
    "print('Recall:', recall_score(y_test, y_pred, average=None))\n",
    "print('Micro F1: {:.3f}'.format(f1_score(y_test, y_pred, average='micro')))\n",
    "print('Macro F1: {:.3f}'.format(f1_score(y_test, y_pred, average='macro')))"
   ]
  },
  {
   "cell_type": "markdown",
   "metadata": {},
   "source": [
    "Report the per-class F1-scores for the test split"
   ]
  },
  {
   "cell_type": "code",
   "execution_count": 15,
   "metadata": {},
   "outputs": [
    {
     "name": "stdout",
     "output_type": "stream",
     "text": [
      "F1 score per class: [0.14925373 0.82882883]\n",
      "              precision    recall  f1-score   support\n",
      "\n",
      "           0       0.33      0.10      0.15        52\n",
      "           1       0.75      0.93      0.83       148\n",
      "\n",
      "    accuracy                           0.71       200\n",
      "   macro avg       0.54      0.51      0.49       200\n",
      "weighted avg       0.64      0.71      0.65       200\n",
      "\n"
     ]
    }
   ],
   "source": [
    "print('F1 score per class:', format(f1_score(y_test, y_pred, average=None)))\n",
    "from sklearn.metrics import classification_report\n",
    "print(classification_report(y_test_1960, y_pred))"
   ]
  },
  {
   "cell_type": "markdown",
   "metadata": {},
   "source": [
    "Create confusion matrix"
   ]
  },
  {
   "cell_type": "code",
   "execution_count": 19,
   "metadata": {
    "tags": []
   },
   "outputs": [
    {
     "name": "stdout",
     "output_type": "stream",
     "text": [
      "[[  5  47]\n",
      " [ 10 138]]\n"
     ]
    },
    {
     "data": {
      "image/png": "[encoded data removed]",
      "text/plain": [
       "<Figure size 640x480 with 2 Axes>"
      ]
     },
     "metadata": {},
     "output_type": "display_data"
    }
   ],
   "source": [
    "import matplotlib.pyplot as plt\n",
    "import seaborn as sns\n",
    "import numpy as np\n",
    "\n",
    "# Compute confusion matrix\n",
    "conf_matrix = confusion_matrix(y_test_1960, y_pred, labels=[0,1])\n",
    "\n",
    "# Display confusion matrix\n",
    "print(conf_matrix)\n",
    "\n",
    "# Display confusion matrix with labels\n",
    "sns.heatmap(conf_matrix, annot=True, fmt='d', cmap='Blues', xticklabels=[0, 1], yticklabels=[0, 1])\n",
    "plt.xlabel('Predicted')\n",
    "plt.ylabel('Actual')\n",
    "plt.title('Confusion Matrix')\n",
    "plt.show()"
   ]
  },
  {
   "cell_type": "code",
   "execution_count": 21,
   "metadata": {
    "tags": []
   },
   "outputs": [],
   "source": [
    "#Find NER model trained to detect GPE, NAMES, ORG\n",
    "\n",
    "#Filter by decade and apply model to every song in the set\n",
    "\n",
    "#Evaluate the most common entities per decade, see change in trends over time"
   ]
  },
  {
   "cell_type": "code",
   "execution_count": null,
   "metadata": {},
   "outputs": [],
   "source": []
  }
 ],
 "metadata": {
  "kernelspec": {
   "display_name": "Python 3 (ipykernel)",
   "language": "python",
   "name": "python3"
  },
  "language_info": {
   "codemirror_mode": {
    "name": "ipython",
    "version": 3
   },
   "file_extension": ".py",
   "mimetype": "text/x-python",
   "name": "python",
   "nbconvert_exporter": "python",
   "pygments_lexer": "ipython3",
   "version": "3.11.5"
  }
 },
 "nbformat": 4,
 "nbformat_minor": 4
}

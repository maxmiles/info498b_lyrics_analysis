{
 "cells": [
  {
   "cell_type": "markdown",
   "id": "19717764-612d-4e35-85d3-7b700b4f38ed",
   "metadata": {
    "tags": []
   },
   "source": [
    "# INFO 498 B | Spotify Lyric Analysis"
   ]
  },
  {
   "cell_type": "markdown",
   "id": "e1ee6bce-a867-4bb6-895b-716ada36a428",
   "metadata": {},
   "source": [
    "### Group 6 | Maxwell Bennett, Sydney Castello, Justin Tham, Ian Wang | 12th December 2023"
   ]
  },
  {
   "cell_type": "markdown",
   "id": "be827476-75c7-49ef-b43e-6a2beb13efad",
   "metadata": {},
   "source": [
    "---"
   ]
  },
  {
   "cell_type": "markdown",
   "id": "65bae1e7-fab7-4669-8cc3-d54827b21e97",
   "metadata": {},
   "source": [
    "### Introduction and Motivation"
   ]
  },
  {
   "cell_type": "markdown",
   "id": "0c11cded-37ba-4da3-bc50-2c96832aed86",
   "metadata": {},
   "source": [
    "### Corpus"
   ]
  },
  {
   "cell_type": "markdown",
   "id": "b8adb355-5224-4ea0-936c-46641b0ca8cc",
   "metadata": {},
   "source": [
    "### Training Data"
   ]
  },
  {
   "cell_type": "markdown",
   "id": "953529d5-c792-4b1f-9e13-970ce1c4aa27",
   "metadata": {},
   "source": [
    "### Model Architecture 1"
   ]
  },
  {
   "cell_type": "markdown",
   "id": "a5a96d99-828b-4e54-9665-60baeec596ad",
   "metadata": {},
   "source": [
    "### Model Architecture 2"
   ]
  },
  {
   "cell_type": "markdown",
   "id": "0e9c215f-96fa-4d11-a201-8be495f9c616",
   "metadata": {},
   "source": [
    "### Describing Visualizing Results"
   ]
  },
  {
   "cell_type": "code",
   "execution_count": null,
   "id": "d171b05a-3640-4921-ac4d-9dc234cff736",
   "metadata": {},
   "outputs": [],
   "source": []
  }
 ],
 "metadata": {
  "kernelspec": {
   "display_name": "Python 3 (ipykernel)",
   "language": "python",
   "name": "python3"
  },
  "language_info": {
   "codemirror_mode": {
    "name": "ipython",
    "version": 3
   },
   "file_extension": ".py",
   "mimetype": "text/x-python",
   "name": "python",
   "nbconvert_exporter": "python",
   "pygments_lexer": "ipython3",
   "version": "3.11.5"
  }
 },
 "nbformat": 4,
 "nbformat_minor": 5
}
